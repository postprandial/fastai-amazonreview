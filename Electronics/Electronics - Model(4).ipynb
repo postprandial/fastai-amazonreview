{
 "cells": [
  {
   "cell_type": "code",
   "execution_count": 1,
   "metadata": {},
   "outputs": [],
   "source": [
    "#hide\n",
    "!pip install -Uqq fastbook\n",
    "import fastbook\n",
    "fastbook.setup_book()"
   ]
  },
  {
   "cell_type": "code",
   "execution_count": 2,
   "metadata": {},
   "outputs": [],
   "source": [
    "#hide\n",
    "from fastbook import *\n",
    "from IPython.display import display,HTML\n",
    "from fastai.text.all import *"
   ]
  },
  {
   "cell_type": "code",
   "execution_count": 3,
   "metadata": {},
   "outputs": [
    {
     "data": {
      "text/plain": [
       "(#2) [Path('data/train'),Path('data/test')]"
      ]
     },
     "execution_count": 3,
     "metadata": {},
     "output_type": "execute_result"
    }
   ],
   "source": [
    "path = Path(\"data\") #I keep a data directory in the same directory as this script\n",
    "path.ls()"
   ]
  },
  {
   "cell_type": "code",
   "execution_count": 4,
   "metadata": {},
   "outputs": [],
   "source": [
    "get_files = partial(get_text_files, folders=['train', 'test'])\n",
    "\n",
    "dls_lm = DataBlock(\n",
    "    blocks=TextBlock.from_folder(path, is_lm=True),\n",
    "    get_items=get_files, splitter=RandomSplitter(0.1)\n",
    ").dataloaders(path, path=path, bs=128, seq_len=80)"
   ]
  },
  {
   "cell_type": "code",
   "execution_count": 5,
   "metadata": {},
   "outputs": [
    {
     "data": {
      "text/html": [
       "<table border=\"1\" class=\"dataframe\">\n",
       "  <thead>\n",
       "    <tr style=\"text-align: right;\">\n",
       "      <th></th>\n",
       "      <th>text</th>\n",
       "      <th>text_</th>\n",
       "    </tr>\n",
       "  </thead>\n",
       "  <tbody>\n",
       "    <tr>\n",
       "      <th>0</th>\n",
       "      <td>xxbos i choose the black 5 xxmaj million xxmaj dollar xxmaj home to carry a xxmaj canon 7d with mounted 17 - 55 2.8 xxup is xxup usm . xxmaj it 's a modern and stylish bag , sort of a xxunk mini messenger . xxmaj here 's what i thought about it : interior is lined with bright light green brushed cloth . xxmaj not my favorite color -- crumpler calls it \" xxunk \" green -- but makes</td>\n",
       "      <td>i choose the black 5 xxmaj million xxmaj dollar xxmaj home to carry a xxmaj canon 7d with mounted 17 - 55 2.8 xxup is xxup usm . xxmaj it 's a modern and stylish bag , sort of a xxunk mini messenger . xxmaj here 's what i thought about it : interior is lined with bright light green brushed cloth . xxmaj not my favorite color -- crumpler calls it \" xxunk \" green -- but makes it</td>\n",
       "    </tr>\n",
       "    <tr>\n",
       "      <th>1</th>\n",
       "      <td>small and the labels are hard see for anybody with a visual xxunk . xxmaj i 've placed masking tape with large - print writing to remedy reading some of the controls on the face of the xxunk may buy this radio with confidence . xxmaj the price is right for the xxunk xxmaj xxunk . xxbos xxmaj due to my error in assuming i found i needed a 58 mm lens not the 52 . xxmaj once exchanged the</td>\n",
       "      <td>and the labels are hard see for anybody with a visual xxunk . xxmaj i 've placed masking tape with large - print writing to remedy reading some of the controls on the face of the xxunk may buy this radio with confidence . xxmaj the price is right for the xxunk xxmaj xxunk . xxbos xxmaj due to my error in assuming i found i needed a 58 mm lens not the 52 . xxmaj once exchanged the lens</td>\n",
       "    </tr>\n",
       "    <tr>\n",
       "      <th>2</th>\n",
       "      <td>status of the test , at xxmaj status &gt; xxmaj device xxmaj info &gt; xxmaj e - mail xxunk detection : xxrep 13 # xxmaj you can have the camera email you either on a schedule or if motion is detected in a configurable hot xxunk &gt; xxmaj motion xxmaj detection … xxunk xxmaj detection : xxmaj enable … xxunk xxmaj area : click the squares of xxunk &gt; xxmaj mail … xxunk \" enable emailing images to email \"</td>\n",
       "      <td>of the test , at xxmaj status &gt; xxmaj device xxmaj info &gt; xxmaj e - mail xxunk detection : xxrep 13 # xxmaj you can have the camera email you either on a schedule or if motion is detected in a configurable hot xxunk &gt; xxmaj motion xxmaj detection … xxunk xxmaj detection : xxmaj enable … xxunk xxmaj area : click the squares of xxunk &gt; xxmaj mail … xxunk \" enable emailing images to email \" …</td>\n",
       "    </tr>\n",
       "  </tbody>\n",
       "</table>"
      ],
      "text/plain": [
       "<IPython.core.display.HTML object>"
      ]
     },
     "metadata": {},
     "output_type": "display_data"
    }
   ],
   "source": [
    "dls_lm.show_batch(max_n=3)"
   ]
  },
  {
   "cell_type": "code",
   "execution_count": 6,
   "metadata": {},
   "outputs": [],
   "source": [
    "learn = language_model_learner(\n",
    "    dls_lm, AWD_LSTM, drop_mult=0.3, \n",
    "    metrics=[accuracy, Perplexity()])"
   ]
  },
  {
   "cell_type": "code",
   "execution_count": 7,
   "metadata": {},
   "outputs": [],
   "source": [
    "import time"
   ]
  },
  {
   "cell_type": "code",
   "execution_count": 8,
   "metadata": {},
   "outputs": [
    {
     "data": {
      "text/html": [
       "<table border=\"1\" class=\"dataframe\">\n",
       "  <thead>\n",
       "    <tr style=\"text-align: left;\">\n",
       "      <th>epoch</th>\n",
       "      <th>train_loss</th>\n",
       "      <th>valid_loss</th>\n",
       "      <th>accuracy</th>\n",
       "      <th>perplexity</th>\n",
       "      <th>time</th>\n",
       "    </tr>\n",
       "  </thead>\n",
       "  <tbody>\n",
       "    <tr>\n",
       "      <td>0</td>\n",
       "      <td>4.322349</td>\n",
       "      <td>4.194114</td>\n",
       "      <td>0.248094</td>\n",
       "      <td>66.294983</td>\n",
       "      <td>01:17</td>\n",
       "    </tr>\n",
       "    <tr>\n",
       "      <td>1</td>\n",
       "      <td>4.067857</td>\n",
       "      <td>4.089735</td>\n",
       "      <td>0.256983</td>\n",
       "      <td>59.724037</td>\n",
       "      <td>01:17</td>\n",
       "    </tr>\n",
       "    <tr>\n",
       "      <td>2</td>\n",
       "      <td>3.829602</td>\n",
       "      <td>4.032601</td>\n",
       "      <td>0.262444</td>\n",
       "      <td>56.407455</td>\n",
       "      <td>01:17</td>\n",
       "    </tr>\n",
       "    <tr>\n",
       "      <td>3</td>\n",
       "      <td>3.659336</td>\n",
       "      <td>4.019662</td>\n",
       "      <td>0.264012</td>\n",
       "      <td>55.682304</td>\n",
       "      <td>01:16</td>\n",
       "    </tr>\n",
       "  </tbody>\n",
       "</table>"
      ],
      "text/plain": [
       "<IPython.core.display.HTML object>"
      ]
     },
     "metadata": {},
     "output_type": "display_data"
    },
    {
     "name": "stdout",
     "output_type": "stream",
     "text": [
      "308.7860836982727\n"
     ]
    }
   ],
   "source": [
    "start = time.time()\n",
    "learn.fit_one_cycle(4, 2e-2)\n",
    "end = time.time()\n",
    "elapsed = end - start\n",
    "print(elapsed)"
   ]
  },
  {
   "cell_type": "code",
   "execution_count": 9,
   "metadata": {},
   "outputs": [
    {
     "data": {
      "text/html": [
       "<table border=\"1\" class=\"dataframe\">\n",
       "  <thead>\n",
       "    <tr style=\"text-align: left;\">\n",
       "      <th>epoch</th>\n",
       "      <th>train_loss</th>\n",
       "      <th>valid_loss</th>\n",
       "      <th>accuracy</th>\n",
       "      <th>perplexity</th>\n",
       "      <th>time</th>\n",
       "    </tr>\n",
       "  </thead>\n",
       "  <tbody>\n",
       "    <tr>\n",
       "      <td>0</td>\n",
       "      <td>3.582900</td>\n",
       "      <td>3.961968</td>\n",
       "      <td>0.272821</td>\n",
       "      <td>52.560673</td>\n",
       "      <td>01:30</td>\n",
       "    </tr>\n",
       "  </tbody>\n",
       "</table>"
      ],
      "text/plain": [
       "<IPython.core.display.HTML object>"
      ]
     },
     "metadata": {},
     "output_type": "display_data"
    },
    {
     "name": "stdout",
     "output_type": "stream",
     "text": [
      "90.25229072570801\n"
     ]
    }
   ],
   "source": [
    "start = time.time()\n",
    "learn.unfreeze()\n",
    "learn.fit_one_cycle(1, 2e-3)\n",
    "end = time.time()\n",
    "elapsed = end - start\n",
    "print(elapsed)"
   ]
  },
  {
   "cell_type": "markdown",
   "metadata": {},
   "source": [
    "#### Language Model\n",
    "My original language model here has trained for a total of 11 epochs and  was overfit. Valid_loss has been rising, while training_loss has been decreasing, and accuracy decreasing. It's overfit. Looks like the sweet spot is around 4 extra epochs (total 5). Ideally, we should also fine -tune on more data. The imdb langauge model was fine tuned on 100,000 reviews, I believe, and this was barely 4K."
   ]
  },
  {
   "cell_type": "markdown",
   "metadata": {},
   "source": [
    "However, in the interest of getting once through, I will take my overfit langauge model, and train the classifier now. "
   ]
  },
  {
   "cell_type": "code",
   "execution_count": 10,
   "metadata": {},
   "outputs": [],
   "source": [
    "learn.save_encoder('finetuned')"
   ]
  },
  {
   "cell_type": "code",
   "execution_count": 11,
   "metadata": {},
   "outputs": [],
   "source": [
    "dls_clas = DataBlock(\n",
    "    blocks=(TextBlock.from_folder(path, vocab=dls_lm.vocab),CategoryBlock),\n",
    "    get_y = parent_label,\n",
    "    get_items=partial(get_text_files, folders=['train', 'test']),\n",
    "    splitter=GrandparentSplitter(valid_name='test')\n",
    ").dataloaders(path, path=path, bs=128, seq_len=72)"
   ]
  },
  {
   "cell_type": "code",
   "execution_count": 12,
   "metadata": {},
   "outputs": [
    {
     "data": {
      "text/html": [
       "<table border=\"1\" class=\"dataframe\">\n",
       "  <thead>\n",
       "    <tr style=\"text-align: right;\">\n",
       "      <th></th>\n",
       "      <th>text</th>\n",
       "      <th>category</th>\n",
       "    </tr>\n",
       "  </thead>\n",
       "  <tbody>\n",
       "    <tr>\n",
       "      <th>0</th>\n",
       "      <td>xxbos xxmaj having had a chance to spend a little time with a review model gives me a chance to share the experience with you a bit early ( before my own arrives ) . xxmaj i 'll take you hands - on with the new model , plus xxmaj i 'll share from my past two years of ipod touch ownership altogether , especially for those who have n't yet owned ( or been owned by ) one of these mobile xxunk also hidden a xxunk xxunk of info on how you can xxunk download tons of quality apps for free . xxmaj first though , let 's quickly cover what 's xxunk xxmaj faster 1ghz xxup a4 xxmaj processor - to keep up with the high demands of xxunk xxmaj ultra high resolution \" retina display \" - packs a 960 x 640 resolution at xxunk pixels per</td>\n",
       "      <td>helpful</td>\n",
       "    </tr>\n",
       "    <tr>\n",
       "      <th>1</th>\n",
       "      <td>xxbos xxunk ( high definition ) xxmaj blu - ray movies played on the xxup db - d5500 are fabulous . ( standard low definition ) dvds are much clearer than played on my old xxup dvd player . xxmaj nothing more needs to be xxunk / xxup xxunk ) xxmaj the xxup bd - d5500 has a loading tray , which encourages proper handling of the disks by the edges . ( many more expensive players are \" slot xxunk ) xxmaj despite the complaint of one reviewer , it is the standard width ( 17 \" ) , exactly the same as my old xxup dvd player and my xxunk ) xxmaj the controls are illuminated , and so , easy to operate even in a dark room , but the controls are identified only by symbols . xxmaj seeing in the dark is good , feeling in</td>\n",
       "      <td>helpful</td>\n",
       "    </tr>\n",
       "    <tr>\n",
       "      <th>2</th>\n",
       "      <td>xxbos xxup xxunk / 27 / xxunk i came back from xxmaj galaxy xxmaj note 10.1 because i just could not tolerate non - full xxup hd screen any more after using xxmaj infinity . i tried to convince myself it would be ok , but it was n't . xxmaj the biggest concern coming back to infinity were relatively frequent application not responding error ( anr ) and random application crash / close especially on browser , and relatively but significantly slower speed of browser page loading compared to ipad 2 or xxmaj galaxy xxmaj note 10.1 . xxmaj however , with a little tweaks i am now very satisfied with infinity as those concerns are now significantly improved to almost completely xxunk xxmaj see xxmaj stability section for added xxmaj xxunk xxmaj conclusion xxunk / 31 / xxunk xxmaj wifi related battery issue is not unit based ,</td>\n",
       "      <td>helpful</td>\n",
       "    </tr>\n",
       "    <tr>\n",
       "      <th>3</th>\n",
       "      <td>xxbos xxup update 3 / 22 / 13 : xxmaj i 've used this recorder now to make hundreds of audio recordings . xxmaj its batteries have gone out many times , due to so much use . xxmaj only once did i lose some of the recording , and that only a tiny part at the end . xxmaj the sound clarity is good , even on the smallest file settings ( like xxunk ) . xxmaj am really surprised . xxmaj initial review , follows below the line . xxrep 27 - xxup upshot : right now as i type , this is the lowest - priced and best xxmaj olympus recorder in xxmaj amazon - if you buy it from xxmaj amazon . xxmaj there are other sellers of this unit advertising via xxmaj amazon who sell the 702pc for up to twice what i just paid</td>\n",
       "      <td>helpful</td>\n",
       "    </tr>\n",
       "  </tbody>\n",
       "</table>"
      ],
      "text/plain": [
       "<IPython.core.display.HTML object>"
      ]
     },
     "metadata": {},
     "output_type": "display_data"
    }
   ],
   "source": [
    "dls_clas.show_batch(max_n=4)"
   ]
  },
  {
   "cell_type": "code",
   "execution_count": 13,
   "metadata": {},
   "outputs": [],
   "source": [
    "learn = text_classifier_learner(dls_clas, AWD_LSTM, drop_mult=0.5, \n",
    "                                metrics=accuracy).to_fp16()"
   ]
  },
  {
   "cell_type": "code",
   "execution_count": 14,
   "metadata": {},
   "outputs": [],
   "source": [
    "learn = learn.load_encoder('finetuned')"
   ]
  },
  {
   "cell_type": "code",
   "execution_count": 15,
   "metadata": {},
   "outputs": [
    {
     "data": {
      "text/html": [
       "<table border=\"1\" class=\"dataframe\">\n",
       "  <thead>\n",
       "    <tr style=\"text-align: left;\">\n",
       "      <th>epoch</th>\n",
       "      <th>train_loss</th>\n",
       "      <th>valid_loss</th>\n",
       "      <th>accuracy</th>\n",
       "      <th>time</th>\n",
       "    </tr>\n",
       "  </thead>\n",
       "  <tbody>\n",
       "    <tr>\n",
       "      <td>0</td>\n",
       "      <td>0.626118</td>\n",
       "      <td>0.616231</td>\n",
       "      <td>0.710199</td>\n",
       "      <td>00:19</td>\n",
       "    </tr>\n",
       "  </tbody>\n",
       "</table>"
      ],
      "text/plain": [
       "<IPython.core.display.HTML object>"
      ]
     },
     "metadata": {},
     "output_type": "display_data"
    }
   ],
   "source": [
    "learn.fit_one_cycle(1, 2e-2) "
   ]
  },
  {
   "cell_type": "code",
   "execution_count": 16,
   "metadata": {},
   "outputs": [
    {
     "data": {
      "text/html": [
       "<table border=\"1\" class=\"dataframe\">\n",
       "  <thead>\n",
       "    <tr style=\"text-align: left;\">\n",
       "      <th>epoch</th>\n",
       "      <th>train_loss</th>\n",
       "      <th>valid_loss</th>\n",
       "      <th>accuracy</th>\n",
       "      <th>time</th>\n",
       "    </tr>\n",
       "  </thead>\n",
       "  <tbody>\n",
       "    <tr>\n",
       "      <td>0</td>\n",
       "      <td>0.585367</td>\n",
       "      <td>0.523512</td>\n",
       "      <td>0.756219</td>\n",
       "      <td>00:22</td>\n",
       "    </tr>\n",
       "  </tbody>\n",
       "</table>"
      ],
      "text/plain": [
       "<IPython.core.display.HTML object>"
      ]
     },
     "metadata": {},
     "output_type": "display_data"
    }
   ],
   "source": [
    "learn.freeze_to(-2)\n",
    "learn.fit_one_cycle(1, slice(1e-2/(2.6**4),1e-2))"
   ]
  },
  {
   "cell_type": "code",
   "execution_count": 17,
   "metadata": {},
   "outputs": [
    {
     "data": {
      "text/html": [
       "<table border=\"1\" class=\"dataframe\">\n",
       "  <thead>\n",
       "    <tr style=\"text-align: left;\">\n",
       "      <th>epoch</th>\n",
       "      <th>train_loss</th>\n",
       "      <th>valid_loss</th>\n",
       "      <th>accuracy</th>\n",
       "      <th>time</th>\n",
       "    </tr>\n",
       "  </thead>\n",
       "  <tbody>\n",
       "    <tr>\n",
       "      <td>0</td>\n",
       "      <td>0.561984</td>\n",
       "      <td>0.486719</td>\n",
       "      <td>0.769901</td>\n",
       "      <td>00:31</td>\n",
       "    </tr>\n",
       "  </tbody>\n",
       "</table>"
      ],
      "text/plain": [
       "<IPython.core.display.HTML object>"
      ]
     },
     "metadata": {},
     "output_type": "display_data"
    }
   ],
   "source": [
    "learn.freeze_to(-3)\n",
    "learn.fit_one_cycle(1, slice(1e-2/(2.6**4),1e-2))"
   ]
  },
  {
   "cell_type": "code",
   "execution_count": 18,
   "metadata": {},
   "outputs": [
    {
     "data": {
      "text/html": [
       "<table border=\"1\" class=\"dataframe\">\n",
       "  <thead>\n",
       "    <tr style=\"text-align: left;\">\n",
       "      <th>epoch</th>\n",
       "      <th>train_loss</th>\n",
       "      <th>valid_loss</th>\n",
       "      <th>accuracy</th>\n",
       "      <th>time</th>\n",
       "    </tr>\n",
       "  </thead>\n",
       "  <tbody>\n",
       "    <tr>\n",
       "      <td>0</td>\n",
       "      <td>0.479207</td>\n",
       "      <td>0.473105</td>\n",
       "      <td>0.787313</td>\n",
       "      <td>00:39</td>\n",
       "    </tr>\n",
       "  </tbody>\n",
       "</table>"
      ],
      "text/plain": [
       "<IPython.core.display.HTML object>"
      ]
     },
     "metadata": {},
     "output_type": "display_data"
    }
   ],
   "source": [
    "learn.unfreeze()\n",
    "learn.fit_one_cycle(1, slice(1e-3/(2.6**4),1e-3))"
   ]
  },
  {
   "cell_type": "code",
   "execution_count": 19,
   "metadata": {},
   "outputs": [
    {
     "data": {
      "text/html": [
       "<table border=\"1\" class=\"dataframe\">\n",
       "  <thead>\n",
       "    <tr style=\"text-align: left;\">\n",
       "      <th>epoch</th>\n",
       "      <th>train_loss</th>\n",
       "      <th>valid_loss</th>\n",
       "      <th>accuracy</th>\n",
       "      <th>time</th>\n",
       "    </tr>\n",
       "  </thead>\n",
       "  <tbody>\n",
       "    <tr>\n",
       "      <td>0</td>\n",
       "      <td>0.467911</td>\n",
       "      <td>0.473183</td>\n",
       "      <td>0.788557</td>\n",
       "      <td>00:39</td>\n",
       "    </tr>\n",
       "  </tbody>\n",
       "</table>"
      ],
      "text/plain": [
       "<IPython.core.display.HTML object>"
      ]
     },
     "metadata": {},
     "output_type": "display_data"
    }
   ],
   "source": [
    "learn.unfreeze()\n",
    "learn.fit_one_cycle(1, slice(1e-3/(2.6**4),1e-3))"
   ]
  },
  {
   "cell_type": "code",
   "execution_count": null,
   "metadata": {},
   "outputs": [],
   "source": []
  }
 ],
 "metadata": {
  "kernelspec": {
   "display_name": "Python 3",
   "language": "python",
   "name": "python3"
  },
  "language_info": {
   "codemirror_mode": {
    "name": "ipython",
    "version": 3
   },
   "file_extension": ".py",
   "mimetype": "text/x-python",
   "name": "python",
   "nbconvert_exporter": "python",
   "pygments_lexer": "ipython3",
   "version": "3.8.6"
  }
 },
 "nbformat": 4,
 "nbformat_minor": 4
}
