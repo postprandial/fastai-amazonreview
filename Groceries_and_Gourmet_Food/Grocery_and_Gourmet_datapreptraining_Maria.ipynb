{
 "cells": [
  {
   "cell_type": "markdown",
   "metadata": {},
   "source": [
    "# Amazon_Grocery and Gourmet _ Data preparation + training"
   ]
  },
  {
   "cell_type": "code",
   "execution_count": 80,
   "metadata": {},
   "outputs": [],
   "source": [
    "import time\n",
    "import pandas as pd\n",
    "df = pd.read_json('Grocery_and_Gourmet_Food_5.json', lines=True)"
   ]
  },
  {
   "cell_type": "code",
   "execution_count": 81,
   "metadata": {
    "scrolled": true
   },
   "outputs": [
    {
     "data": {
      "text/html": [
       "<div>\n",
       "<style scoped>\n",
       "    .dataframe tbody tr th:only-of-type {\n",
       "        vertical-align: middle;\n",
       "    }\n",
       "\n",
       "    .dataframe tbody tr th {\n",
       "        vertical-align: top;\n",
       "    }\n",
       "\n",
       "    .dataframe thead th {\n",
       "        text-align: right;\n",
       "    }\n",
       "</style>\n",
       "<table border=\"1\" class=\"dataframe\">\n",
       "  <thead>\n",
       "    <tr style=\"text-align: right;\">\n",
       "      <th></th>\n",
       "      <th>reviewerID</th>\n",
       "      <th>asin</th>\n",
       "      <th>reviewerName</th>\n",
       "      <th>helpful</th>\n",
       "      <th>reviewText</th>\n",
       "      <th>overall</th>\n",
       "      <th>summary</th>\n",
       "      <th>unixReviewTime</th>\n",
       "      <th>reviewTime</th>\n",
       "    </tr>\n",
       "  </thead>\n",
       "  <tbody>\n",
       "    <tr>\n",
       "      <th>0</th>\n",
       "      <td>A1VEELTKS8NLZB</td>\n",
       "      <td>616719923X</td>\n",
       "      <td>Amazon Customer</td>\n",
       "      <td>[0, 0]</td>\n",
       "      <td>Just another flavor of Kit Kat but the taste is unique and a bit different.  The only thing that is bothersome is the price.  I thought it was a bit expensive....</td>\n",
       "      <td>4</td>\n",
       "      <td>Good Taste</td>\n",
       "      <td>1370044800</td>\n",
       "      <td>06 1, 2013</td>\n",
       "    </tr>\n",
       "    <tr>\n",
       "      <th>1</th>\n",
       "      <td>A14R9XMZVJ6INB</td>\n",
       "      <td>616719923X</td>\n",
       "      <td>amf0001</td>\n",
       "      <td>[0, 1]</td>\n",
       "      <td>I bought this on impulse and it comes from Japan,  which amused my family,  all those weird stamps and markings on the package. So that was fun.  It said it would take about a month to arrive and it did take that long.  I was hoping for a more interesting taste but to our family,  it just tasted a bit less flavorful or weaker than the standard milk chocolate kit kat.  The green tea flavor was too subtle for the sugar and it just tasted sweet. The wafers were very crispy, and that was good,  but it tasted a bit anemic to us.I'm happy I bought it, but don't need to buy it again.</td>\n",
       "      <td>3</td>\n",
       "      <td>3.5 stars,  sadly not as wonderful as I had hoped</td>\n",
       "      <td>1400457600</td>\n",
       "      <td>05 19, 2014</td>\n",
       "    </tr>\n",
       "    <tr>\n",
       "      <th>2</th>\n",
       "      <td>A27IQHDZFQFNGG</td>\n",
       "      <td>616719923X</td>\n",
       "      <td>Caitlin</td>\n",
       "      <td>[3, 4]</td>\n",
       "      <td>Really good. Great gift for any fan of green tea! Just so expensive to purchase candy from across the sea.</td>\n",
       "      <td>4</td>\n",
       "      <td>Yum!</td>\n",
       "      <td>1381190400</td>\n",
       "      <td>10 8, 2013</td>\n",
       "    </tr>\n",
       "    <tr>\n",
       "      <th>3</th>\n",
       "      <td>A31QY5TASILE89</td>\n",
       "      <td>616719923X</td>\n",
       "      <td>DebraDownSth</td>\n",
       "      <td>[0, 0]</td>\n",
       "      <td>I had never had it before, was curious to see what it was like. Smooth, great subtle good flavor. I am ordering more and plan to make it a routine.</td>\n",
       "      <td>5</td>\n",
       "      <td>Unexpected flavor meld</td>\n",
       "      <td>1369008000</td>\n",
       "      <td>05 20, 2013</td>\n",
       "    </tr>\n",
       "    <tr>\n",
       "      <th>4</th>\n",
       "      <td>A2LWK003FFMCI5</td>\n",
       "      <td>616719923X</td>\n",
       "      <td>Diana X.</td>\n",
       "      <td>[1, 2]</td>\n",
       "      <td>I've been looking forward to trying these after hearing about how popular they were in Japan, and among Kit Kat fans as well. I do not recommend ordering these during warm weather, because they can melt and become smushy. I ordered mine right when summer began, and they were a bit mushy so I let them solidify under room temp. Afterwards, I tried some and they tasted fine. I was expecting a stronger green tea or matcha flavor, but it is actually quite subtle. The outer coating was creamy and not overly sugary, which I liked. Overall, I wouldn't say it's insanely good, but definitely a yummy...</td>\n",
       "      <td>4</td>\n",
       "      <td>Not a very strong tea flavor, but still yummy &amp; creamy!</td>\n",
       "      <td>1369526400</td>\n",
       "      <td>05 26, 2013</td>\n",
       "    </tr>\n",
       "  </tbody>\n",
       "</table>\n",
       "</div>"
      ],
      "text/plain": [
       "       reviewerID        asin     reviewerName helpful  \\\n",
       "0  A1VEELTKS8NLZB  616719923X  Amazon Customer  [0, 0]   \n",
       "1  A14R9XMZVJ6INB  616719923X          amf0001  [0, 1]   \n",
       "2  A27IQHDZFQFNGG  616719923X          Caitlin  [3, 4]   \n",
       "3  A31QY5TASILE89  616719923X     DebraDownSth  [0, 0]   \n",
       "4  A2LWK003FFMCI5  616719923X         Diana X.  [1, 2]   \n",
       "\n",
       "                                                                                                                                                                                                                                                                                                                                                                                                                                                                                                                                                                                                                reviewText  \\\n",
       "0                                                                                                                                                                                                                                                                                                                                                                                                                                                       Just another flavor of Kit Kat but the taste is unique and a bit different.  The only thing that is bothersome is the price.  I thought it was a bit expensive....   \n",
       "1                  I bought this on impulse and it comes from Japan,  which amused my family,  all those weird stamps and markings on the package. So that was fun.  It said it would take about a month to arrive and it did take that long.  I was hoping for a more interesting taste but to our family,  it just tasted a bit less flavorful or weaker than the standard milk chocolate kit kat.  The green tea flavor was too subtle for the sugar and it just tasted sweet. The wafers were very crispy, and that was good,  but it tasted a bit anemic to us.I'm happy I bought it, but don't need to buy it again.   \n",
       "2                                                                                                                                                                                                                                                                                                                                                                                                                                                                                                               Really good. Great gift for any fan of green tea! Just so expensive to purchase candy from across the sea.   \n",
       "3                                                                                                                                                                                                                                                                                                                                                                                                                                                                      I had never had it before, was curious to see what it was like. Smooth, great subtle good flavor. I am ordering more and plan to make it a routine.   \n",
       "4  I've been looking forward to trying these after hearing about how popular they were in Japan, and among Kit Kat fans as well. I do not recommend ordering these during warm weather, because they can melt and become smushy. I ordered mine right when summer began, and they were a bit mushy so I let them solidify under room temp. Afterwards, I tried some and they tasted fine. I was expecting a stronger green tea or matcha flavor, but it is actually quite subtle. The outer coating was creamy and not overly sugary, which I liked. Overall, I wouldn't say it's insanely good, but definitely a yummy...   \n",
       "\n",
       "   overall                                                  summary  \\\n",
       "0        4                                               Good Taste   \n",
       "1        3        3.5 stars,  sadly not as wonderful as I had hoped   \n",
       "2        4                                                     Yum!   \n",
       "3        5                                   Unexpected flavor meld   \n",
       "4        4  Not a very strong tea flavor, but still yummy & creamy!   \n",
       "\n",
       "   unixReviewTime   reviewTime  \n",
       "0      1370044800   06 1, 2013  \n",
       "1      1400457600  05 19, 2014  \n",
       "2      1381190400   10 8, 2013  \n",
       "3      1369008000  05 20, 2013  \n",
       "4      1369526400  05 26, 2013  "
      ]
     },
     "execution_count": 81,
     "metadata": {},
     "output_type": "execute_result"
    }
   ],
   "source": [
    "df.head()"
   ]
  },
  {
   "cell_type": "code",
   "execution_count": 82,
   "metadata": {},
   "outputs": [
    {
     "data": {
      "text/plain": [
       "(151254, 9)"
      ]
     },
     "execution_count": 82,
     "metadata": {},
     "output_type": "execute_result"
    }
   ],
   "source": [
    "df.shape"
   ]
  },
  {
   "cell_type": "markdown",
   "metadata": {},
   "source": [
    "Validating the \"helpful\" column"
   ]
  },
  {
   "cell_type": "code",
   "execution_count": 83,
   "metadata": {},
   "outputs": [
    {
     "data": {
      "text/plain": [
       "2    151254\n",
       "Name: helpful, dtype: int64"
      ]
     },
     "execution_count": 83,
     "metadata": {},
     "output_type": "execute_result"
    }
   ],
   "source": [
    "df[\"helpful\"].apply(lambda x: len(x)).value_counts()"
   ]
  },
  {
   "cell_type": "code",
   "execution_count": 84,
   "metadata": {},
   "outputs": [
    {
     "data": {
      "text/plain": [
       "5    87446\n",
       "4    32598\n",
       "3    17514\n",
       "2     7917\n",
       "1     5779\n",
       "Name: overall, dtype: int64"
      ]
     },
     "execution_count": 84,
     "metadata": {},
     "output_type": "execute_result"
    }
   ],
   "source": [
    "df[\"overall\"].value_counts()"
   ]
  },
  {
   "cell_type": "markdown",
   "metadata": {},
   "source": [
    "Dropping columns that we don't need:"
   ]
  },
  {
   "cell_type": "code",
   "execution_count": 85,
   "metadata": {},
   "outputs": [],
   "source": [
    "df.drop(columns=[\"reviewerID\", \"asin\", \"reviewerName\", \"unixReviewTime\", \"reviewTime\"], inplace=True)"
   ]
  },
  {
   "cell_type": "code",
   "execution_count": 86,
   "metadata": {},
   "outputs": [
    {
     "data": {
      "text/plain": [
       "(151254, 4)"
      ]
     },
     "execution_count": 86,
     "metadata": {},
     "output_type": "execute_result"
    }
   ],
   "source": [
    "df.shape"
   ]
  },
  {
   "cell_type": "markdown",
   "metadata": {},
   "source": [
    "Now we have these datatypes:"
   ]
  },
  {
   "cell_type": "code",
   "execution_count": 87,
   "metadata": {},
   "outputs": [
    {
     "data": {
      "text/plain": [
       "helpful       object\n",
       "reviewText    object\n",
       "overall        int64\n",
       "summary       object\n",
       "dtype: object"
      ]
     },
     "execution_count": 87,
     "metadata": {},
     "output_type": "execute_result"
    }
   ],
   "source": [
    "df.dtypes"
   ]
  },
  {
   "cell_type": "markdown",
   "metadata": {},
   "source": [
    "Adding new columns for helpful votes, ratio and total votes:"
   ]
  },
  {
   "cell_type": "code",
   "execution_count": 88,
   "metadata": {},
   "outputs": [
    {
     "name": "stdout",
     "output_type": "stream",
     "text": [
      "0.17744874954223633\n"
     ]
    }
   ],
   "source": [
    "start = time.time()\n",
    "\n",
    "df[\"num_helpful_votes\"] = df[\"helpful\"].apply(lambda x: float(x[0]))\n",
    "df[\"num_total_votes\"] = df[\"helpful\"].apply(lambda x: float(x[1]))\n",
    "df[\"helpful_ratio\"] = df[\"num_helpful_votes\"] / df[\"num_total_votes\"]\n",
    "\n",
    "end = time.time()\n",
    "elapsed = end - start\n",
    "print(elapsed)"
   ]
  },
  {
   "cell_type": "code",
   "execution_count": 89,
   "metadata": {},
   "outputs": [],
   "source": [
    "df = df.astype({'num_helpful_votes': 'int32', 'num_total_votes': 'int32'})"
   ]
  },
  {
   "cell_type": "code",
   "execution_count": 90,
   "metadata": {},
   "outputs": [
    {
     "data": {
      "text/plain": [
       "helpful               object\n",
       "reviewText            object\n",
       "overall                int64\n",
       "summary               object\n",
       "num_helpful_votes      int32\n",
       "num_total_votes        int32\n",
       "helpful_ratio        float64\n",
       "dtype: object"
      ]
     },
     "execution_count": 90,
     "metadata": {},
     "output_type": "execute_result"
    }
   ],
   "source": [
    "df.dtypes"
   ]
  },
  {
   "cell_type": "markdown",
   "metadata": {},
   "source": [
    " Replacing NaN with 0:"
   ]
  },
  {
   "cell_type": "code",
   "execution_count": 91,
   "metadata": {},
   "outputs": [],
   "source": [
    "df['helpful_ratio'].fillna(0, inplace=True)"
   ]
  },
  {
   "cell_type": "code",
   "execution_count": 92,
   "metadata": {},
   "outputs": [
    {
     "data": {
      "text/html": [
       "<div>\n",
       "<style scoped>\n",
       "    .dataframe tbody tr th:only-of-type {\n",
       "        vertical-align: middle;\n",
       "    }\n",
       "\n",
       "    .dataframe tbody tr th {\n",
       "        vertical-align: top;\n",
       "    }\n",
       "\n",
       "    .dataframe thead th {\n",
       "        text-align: right;\n",
       "    }\n",
       "</style>\n",
       "<table border=\"1\" class=\"dataframe\">\n",
       "  <thead>\n",
       "    <tr style=\"text-align: right;\">\n",
       "      <th></th>\n",
       "      <th>helpful</th>\n",
       "      <th>reviewText</th>\n",
       "      <th>overall</th>\n",
       "      <th>summary</th>\n",
       "      <th>num_helpful_votes</th>\n",
       "      <th>num_total_votes</th>\n",
       "      <th>helpful_ratio</th>\n",
       "    </tr>\n",
       "  </thead>\n",
       "  <tbody>\n",
       "    <tr>\n",
       "      <th>0</th>\n",
       "      <td>[0, 0]</td>\n",
       "      <td>Just another flavor of Kit Kat but the taste is unique and a bit different.  The only thing that is bothersome is the price.  I thought it was a bit expensive....</td>\n",
       "      <td>4</td>\n",
       "      <td>Good Taste</td>\n",
       "      <td>0</td>\n",
       "      <td>0</td>\n",
       "      <td>0.00</td>\n",
       "    </tr>\n",
       "    <tr>\n",
       "      <th>1</th>\n",
       "      <td>[0, 1]</td>\n",
       "      <td>I bought this on impulse and it comes from Japan,  which amused my family,  all those weird stamps and markings on the package. So that was fun.  It said it would take about a month to arrive and it did take that long.  I was hoping for a more interesting taste but to our family,  it just tasted a bit less flavorful or weaker than the standard milk chocolate kit kat.  The green tea flavor was too subtle for the sugar and it just tasted sweet. The wafers were very crispy, and that was good,  but it tasted a bit anemic to us.I'm happy I bought it, but don't need to buy it again.</td>\n",
       "      <td>3</td>\n",
       "      <td>3.5 stars,  sadly not as wonderful as I had hoped</td>\n",
       "      <td>0</td>\n",
       "      <td>1</td>\n",
       "      <td>0.00</td>\n",
       "    </tr>\n",
       "    <tr>\n",
       "      <th>2</th>\n",
       "      <td>[3, 4]</td>\n",
       "      <td>Really good. Great gift for any fan of green tea! Just so expensive to purchase candy from across the sea.</td>\n",
       "      <td>4</td>\n",
       "      <td>Yum!</td>\n",
       "      <td>3</td>\n",
       "      <td>4</td>\n",
       "      <td>0.75</td>\n",
       "    </tr>\n",
       "    <tr>\n",
       "      <th>3</th>\n",
       "      <td>[0, 0]</td>\n",
       "      <td>I had never had it before, was curious to see what it was like. Smooth, great subtle good flavor. I am ordering more and plan to make it a routine.</td>\n",
       "      <td>5</td>\n",
       "      <td>Unexpected flavor meld</td>\n",
       "      <td>0</td>\n",
       "      <td>0</td>\n",
       "      <td>0.00</td>\n",
       "    </tr>\n",
       "    <tr>\n",
       "      <th>4</th>\n",
       "      <td>[1, 2]</td>\n",
       "      <td>I've been looking forward to trying these after hearing about how popular they were in Japan, and among Kit Kat fans as well. I do not recommend ordering these during warm weather, because they can melt and become smushy. I ordered mine right when summer began, and they were a bit mushy so I let them solidify under room temp. Afterwards, I tried some and they tasted fine. I was expecting a stronger green tea or matcha flavor, but it is actually quite subtle. The outer coating was creamy and not overly sugary, which I liked. Overall, I wouldn't say it's insanely good, but definitely a yummy...</td>\n",
       "      <td>4</td>\n",
       "      <td>Not a very strong tea flavor, but still yummy &amp; creamy!</td>\n",
       "      <td>1</td>\n",
       "      <td>2</td>\n",
       "      <td>0.50</td>\n",
       "    </tr>\n",
       "  </tbody>\n",
       "</table>\n",
       "</div>"
      ],
      "text/plain": [
       "  helpful  \\\n",
       "0  [0, 0]   \n",
       "1  [0, 1]   \n",
       "2  [3, 4]   \n",
       "3  [0, 0]   \n",
       "4  [1, 2]   \n",
       "\n",
       "                                                                                                                                                                                                                                                                                                                                                                                                                                                                                                                                                                                                                reviewText  \\\n",
       "0                                                                                                                                                                                                                                                                                                                                                                                                                                                       Just another flavor of Kit Kat but the taste is unique and a bit different.  The only thing that is bothersome is the price.  I thought it was a bit expensive....   \n",
       "1                  I bought this on impulse and it comes from Japan,  which amused my family,  all those weird stamps and markings on the package. So that was fun.  It said it would take about a month to arrive and it did take that long.  I was hoping for a more interesting taste but to our family,  it just tasted a bit less flavorful or weaker than the standard milk chocolate kit kat.  The green tea flavor was too subtle for the sugar and it just tasted sweet. The wafers were very crispy, and that was good,  but it tasted a bit anemic to us.I'm happy I bought it, but don't need to buy it again.   \n",
       "2                                                                                                                                                                                                                                                                                                                                                                                                                                                                                                               Really good. Great gift for any fan of green tea! Just so expensive to purchase candy from across the sea.   \n",
       "3                                                                                                                                                                                                                                                                                                                                                                                                                                                                      I had never had it before, was curious to see what it was like. Smooth, great subtle good flavor. I am ordering more and plan to make it a routine.   \n",
       "4  I've been looking forward to trying these after hearing about how popular they were in Japan, and among Kit Kat fans as well. I do not recommend ordering these during warm weather, because they can melt and become smushy. I ordered mine right when summer began, and they were a bit mushy so I let them solidify under room temp. Afterwards, I tried some and they tasted fine. I was expecting a stronger green tea or matcha flavor, but it is actually quite subtle. The outer coating was creamy and not overly sugary, which I liked. Overall, I wouldn't say it's insanely good, but definitely a yummy...   \n",
       "\n",
       "   overall                                                  summary  \\\n",
       "0        4                                               Good Taste   \n",
       "1        3        3.5 stars,  sadly not as wonderful as I had hoped   \n",
       "2        4                                                     Yum!   \n",
       "3        5                                   Unexpected flavor meld   \n",
       "4        4  Not a very strong tea flavor, but still yummy & creamy!   \n",
       "\n",
       "   num_helpful_votes  num_total_votes  helpful_ratio  \n",
       "0                  0                0           0.00  \n",
       "1                  0                1           0.00  \n",
       "2                  3                4           0.75  \n",
       "3                  0                0           0.00  \n",
       "4                  1                2           0.50  "
      ]
     },
     "execution_count": 92,
     "metadata": {},
     "output_type": "execute_result"
    }
   ],
   "source": [
    "df.head()"
   ]
  },
  {
   "cell_type": "markdown",
   "metadata": {},
   "source": [
    "Dropping dupes:"
   ]
  },
  {
   "cell_type": "code",
   "execution_count": 93,
   "metadata": {},
   "outputs": [],
   "source": [
    "df_uniq = df.drop_duplicates(subset=\"reviewText\", keep = \"first\")"
   ]
  },
  {
   "cell_type": "markdown",
   "metadata": {},
   "source": [
    "Classification dataset threshold. Whether a review should be included in the classification task. Following the literature, we are using 50 votes. \n",
    "(df_uniq can be used for LM fine tuning (it contains all reviews except dupes))"
   ]
  },
  {
   "cell_type": "code",
   "execution_count": 94,
   "metadata": {},
   "outputs": [],
   "source": [
    "df_uniq_cl = df_uniq[df_uniq['num_total_votes'] > 49 ]"
   ]
  },
  {
   "cell_type": "code",
   "execution_count": 95,
   "metadata": {},
   "outputs": [
    {
     "data": {
      "text/html": [
       "<div>\n",
       "<style scoped>\n",
       "    .dataframe tbody tr th:only-of-type {\n",
       "        vertical-align: middle;\n",
       "    }\n",
       "\n",
       "    .dataframe tbody tr th {\n",
       "        vertical-align: top;\n",
       "    }\n",
       "\n",
       "    .dataframe thead th {\n",
       "        text-align: right;\n",
       "    }\n",
       "</style>\n",
       "<table border=\"1\" class=\"dataframe\">\n",
       "  <thead>\n",
       "    <tr style=\"text-align: right;\">\n",
       "      <th></th>\n",
       "      <th>helpful</th>\n",
       "      <th>reviewText</th>\n",
       "      <th>overall</th>\n",
       "      <th>summary</th>\n",
       "      <th>num_helpful_votes</th>\n",
       "      <th>num_total_votes</th>\n",
       "      <th>helpful_ratio</th>\n",
       "    </tr>\n",
       "  </thead>\n",
       "  <tbody>\n",
       "    <tr>\n",
       "      <th>102</th>\n",
       "      <td>[50, 50]</td>\n",
       "      <td>First a little background on me. I Am a coffee drinking fiend. I probably keep several countries coffee production up, so I know coffee. I don't mind strong coffee or so so tasting coffee I just dont expect it to be expensive so so tasting coffee. I have had and love Jamaican Blue mountain coffee before but it was a lot more expensive than this. This came in a cute little burlap sack (you get some style points there) but after that it's pretty much down hill. The coffe is not the normal rich tasting wonderfull smelling JBM I have had before, it just tastes like every other coffee albeit at...</td>\n",
       "      <td>3</td>\n",
       "      <td>Not worth it for the money</td>\n",
       "      <td>50</td>\n",
       "      <td>50</td>\n",
       "      <td>1.000000</td>\n",
       "    </tr>\n",
       "    <tr>\n",
       "      <th>106</th>\n",
       "      <td>[68, 74]</td>\n",
       "      <td>EASY OF USEI've used the Mellita Coffee System for about 40 years. I find the system more convenient than coffee machines.&gt; If the power goes off, you can still make coffee if you have a gas stove or a camp stove.&gt; It is easy to brew  exactly the amount of coffee you want, and exactly the strength that you want---including adjusting to new roast and grinds. You can even mix caffeinated and decaffeinated coffees if you wish.&gt; In a way, the Mellita system is more \"sanitary\". It is easy to forget a used filter in a coffee maker, maybe for weeks if you go on a vacation, and find a fungus garde...</td>\n",
       "      <td>5</td>\n",
       "      <td>Does the job</td>\n",
       "      <td>68</td>\n",
       "      <td>74</td>\n",
       "      <td>0.918919</td>\n",
       "    </tr>\n",
       "    <tr>\n",
       "      <th>124</th>\n",
       "      <td>[130, 130]</td>\n",
       "      <td>I've taken to making cupcakes and cookies and making icing letters on them...  you know, an \"H\" on one cookie, \"A\" on another, and so forth, and arrange the cookies or cupcakes to spell out HAPPY BIRTHDAY or whatever the occasion might be.  I prefer bold, rich colors, like jewel tone colors, so these gel colors fit the bill to get the bold color without watering down my icing.  Only takes a few toothpicks of color to get what I'm looking for, so each 1/2 ounce color is going to go a long way.  A good buy, all around.  I will never go back to regular liquid food coloring!Also, I know others...</td>\n",
       "      <td>5</td>\n",
       "      <td>I love these to get a BOLD color</td>\n",
       "      <td>130</td>\n",
       "      <td>130</td>\n",
       "      <td>1.000000</td>\n",
       "    </tr>\n",
       "    <tr>\n",
       "      <th>127</th>\n",
       "      <td>[78, 81]</td>\n",
       "      <td>As an experienced baker for decades, I have used gel, paste, liquid, and powder artificial colorings.  For the best control, I prefer the gels and powders.  Whether doing royal, butter cream, color flow, fondant, or marzipan, the gel gives me an immediate, true color.  I have been a Wilton customer for 30 years and will not use another brand.Tips:  When opening each little jar, DO NOT fully remove the foil cover over the product.  Insert a wooden tooth pick to open a small hole.  Unless you are making a large quantity of icing, you won't need to widen it and remove more than what is on you...</td>\n",
       "      <td>5</td>\n",
       "      <td>Color Me Happy</td>\n",
       "      <td>78</td>\n",
       "      <td>81</td>\n",
       "      <td>0.962963</td>\n",
       "    </tr>\n",
       "    <tr>\n",
       "      <th>240</th>\n",
       "      <td>[81, 86]</td>\n",
       "      <td>The first tree I ordered was badly scarred by wires.  The company replaced it quickly with a very nice tree that had a great shape.  The ficus is great if you have little natural light.  My apartment is very dark and the tree did fine off of the artificial light.  That said, this is NOT a tree for beginners.  Ficus are notoriously finicky.  They like regular water and the same light conditions day after day.  Each time you vary the routiine significantly, it will drop all of its leaves.  Moreover, this plant was hard to water.  The pot doesn't have enough room for the water to soak in, so ...</td>\n",
       "      <td>3</td>\n",
       "      <td>Misleading description, but nice plant.</td>\n",
       "      <td>81</td>\n",
       "      <td>86</td>\n",
       "      <td>0.941860</td>\n",
       "    </tr>\n",
       "  </tbody>\n",
       "</table>\n",
       "</div>"
      ],
      "text/plain": [
       "        helpful  \\\n",
       "102    [50, 50]   \n",
       "106    [68, 74]   \n",
       "124  [130, 130]   \n",
       "127    [78, 81]   \n",
       "240    [81, 86]   \n",
       "\n",
       "                                                                                                                                                                                                                                                                                                                                                                                                                                                                                                                                                                                                                  reviewText  \\\n",
       "102  First a little background on me. I Am a coffee drinking fiend. I probably keep several countries coffee production up, so I know coffee. I don't mind strong coffee or so so tasting coffee I just dont expect it to be expensive so so tasting coffee. I have had and love Jamaican Blue mountain coffee before but it was a lot more expensive than this. This came in a cute little burlap sack (you get some style points there) but after that it's pretty much down hill. The coffe is not the normal rich tasting wonderfull smelling JBM I have had before, it just tastes like every other coffee albeit at...   \n",
       "106  EASY OF USEI've used the Mellita Coffee System for about 40 years. I find the system more convenient than coffee machines.> If the power goes off, you can still make coffee if you have a gas stove or a camp stove.> It is easy to brew  exactly the amount of coffee you want, and exactly the strength that you want---including adjusting to new roast and grinds. You can even mix caffeinated and decaffeinated coffees if you wish.> In a way, the Mellita system is more \"sanitary\". It is easy to forget a used filter in a coffee maker, maybe for weeks if you go on a vacation, and find a fungus garde...   \n",
       "124  I've taken to making cupcakes and cookies and making icing letters on them...  you know, an \"H\" on one cookie, \"A\" on another, and so forth, and arrange the cookies or cupcakes to spell out HAPPY BIRTHDAY or whatever the occasion might be.  I prefer bold, rich colors, like jewel tone colors, so these gel colors fit the bill to get the bold color without watering down my icing.  Only takes a few toothpicks of color to get what I'm looking for, so each 1/2 ounce color is going to go a long way.  A good buy, all around.  I will never go back to regular liquid food coloring!Also, I know others...   \n",
       "127  As an experienced baker for decades, I have used gel, paste, liquid, and powder artificial colorings.  For the best control, I prefer the gels and powders.  Whether doing royal, butter cream, color flow, fondant, or marzipan, the gel gives me an immediate, true color.  I have been a Wilton customer for 30 years and will not use another brand.Tips:  When opening each little jar, DO NOT fully remove the foil cover over the product.  Insert a wooden tooth pick to open a small hole.  Unless you are making a large quantity of icing, you won't need to widen it and remove more than what is on you...   \n",
       "240  The first tree I ordered was badly scarred by wires.  The company replaced it quickly with a very nice tree that had a great shape.  The ficus is great if you have little natural light.  My apartment is very dark and the tree did fine off of the artificial light.  That said, this is NOT a tree for beginners.  Ficus are notoriously finicky.  They like regular water and the same light conditions day after day.  Each time you vary the routiine significantly, it will drop all of its leaves.  Moreover, this plant was hard to water.  The pot doesn't have enough room for the water to soak in, so ...   \n",
       "\n",
       "     overall                                  summary  num_helpful_votes  \\\n",
       "102        3               Not worth it for the money                 50   \n",
       "106        5                             Does the job                 68   \n",
       "124        5         I love these to get a BOLD color                130   \n",
       "127        5                           Color Me Happy                 78   \n",
       "240        3  Misleading description, but nice plant.                 81   \n",
       "\n",
       "     num_total_votes  helpful_ratio  \n",
       "102               50       1.000000  \n",
       "106               74       0.918919  \n",
       "124              130       1.000000  \n",
       "127               81       0.962963  \n",
       "240               86       0.941860  "
      ]
     },
     "execution_count": 95,
     "metadata": {},
     "output_type": "execute_result"
    }
   ],
   "source": [
    "df_uniq_cl.head()"
   ]
  },
  {
   "cell_type": "markdown",
   "metadata": {},
   "source": [
    "BALANCING + BINNING THE DATA"
   ]
  },
  {
   "cell_type": "code",
   "execution_count": 96,
   "metadata": {},
   "outputs": [
    {
     "name": "stderr",
     "output_type": "stream",
     "text": [
      "<ipython-input-96-c0b181f165c5>:2: SettingWithCopyWarning: \n",
      "A value is trying to be set on a copy of a slice from a DataFrame.\n",
      "Try using .loc[row_indexer,col_indexer] = value instead\n",
      "\n",
      "See the caveats in the documentation: https://pandas.pydata.org/pandas-docs/stable/user_guide/indexing.html#returning-a-view-versus-a-copy\n",
      "  df_uniq_cl[\"is_helpful\"] = pd.cut(df_uniq_cl[\"helpful_ratio\"], bins, labels=[\"0\", \"1\"])\n"
     ]
    }
   ],
   "source": [
    "bins = [0.0, 0.75, 1.0]\n",
    "df_uniq_cl[\"is_helpful\"] = pd.cut(df_uniq_cl[\"helpful_ratio\"], bins, labels=[\"0\", \"1\"])"
   ]
  },
  {
   "cell_type": "code",
   "execution_count": 97,
   "metadata": {},
   "outputs": [
    {
     "data": {
      "text/plain": [
       "1    455\n",
       "0     62\n",
       "Name: is_helpful, dtype: int64"
      ]
     },
     "execution_count": 97,
     "metadata": {},
     "output_type": "execute_result"
    }
   ],
   "source": [
    "df_uniq_cl[\"is_helpful\"].value_counts()"
   ]
  },
  {
   "cell_type": "markdown",
   "metadata": {},
   "source": [
    "Equal number for helpful and unhelpful votes data"
   ]
  },
  {
   "cell_type": "code",
   "execution_count": 98,
   "metadata": {},
   "outputs": [],
   "source": [
    "all_unhelpful = df_uniq_cl.loc[df_uniq_cl[\"is_helpful\"] == \"0\"]"
   ]
  },
  {
   "cell_type": "code",
   "execution_count": 99,
   "metadata": {},
   "outputs": [
    {
     "data": {
      "text/plain": [
       "0    62\n",
       "1     0\n",
       "Name: is_helpful, dtype: int64"
      ]
     },
     "execution_count": 99,
     "metadata": {},
     "output_type": "execute_result"
    }
   ],
   "source": [
    "all_unhelpful['is_helpful'].value_counts()"
   ]
  },
  {
   "cell_type": "code",
   "execution_count": 100,
   "metadata": {},
   "outputs": [],
   "source": [
    "all_helpful = df_uniq_cl.loc[df_uniq_cl[\"is_helpful\"] == \"1\"].sample(n=62, random_state=42, axis=0)"
   ]
  },
  {
   "cell_type": "code",
   "execution_count": 101,
   "metadata": {},
   "outputs": [
    {
     "data": {
      "text/plain": [
       "1    62\n",
       "0     0\n",
       "Name: is_helpful, dtype: int64"
      ]
     },
     "execution_count": 101,
     "metadata": {},
     "output_type": "execute_result"
    }
   ],
   "source": [
    "all_helpful[\"is_helpful\"].value_counts()"
   ]
  },
  {
   "cell_type": "code",
   "execution_count": 102,
   "metadata": {},
   "outputs": [],
   "source": [
    "balanced_df = all_helpful.append(all_unhelpful)"
   ]
  },
  {
   "cell_type": "code",
   "execution_count": 103,
   "metadata": {},
   "outputs": [
    {
     "data": {
      "text/plain": [
       "1    62\n",
       "0    62\n",
       "Name: is_helpful, dtype: int64"
      ]
     },
     "execution_count": 103,
     "metadata": {},
     "output_type": "execute_result"
    }
   ],
   "source": [
    "balanced_df['is_helpful'].value_counts()"
   ]
  },
  {
   "cell_type": "markdown",
   "metadata": {},
   "source": [
    "Now we split into test and train data (borrowing' Gaurav's approach here)"
   ]
  },
  {
   "cell_type": "code",
   "execution_count": 104,
   "metadata": {},
   "outputs": [
    {
     "data": {
      "text/plain": [
       "((99, 8), (25, 8))"
      ]
     },
     "execution_count": 104,
     "metadata": {},
     "output_type": "execute_result"
    }
   ],
   "source": [
    "from sklearn.model_selection import train_test_split\n",
    "\n",
    "train_df, test_df = train_test_split(balanced_df, test_size=0.20, stratify=balanced_df[\"is_helpful\"], random_state=42)\n",
    "\n",
    "train_df.shape, test_df.shape"
   ]
  },
  {
   "cell_type": "markdown",
   "metadata": {},
   "source": [
    "Create csv files"
   ]
  },
  {
   "cell_type": "code",
   "execution_count": 105,
   "metadata": {},
   "outputs": [],
   "source": [
    "train_df.to_csv(\"grocery_and_gourmet_train.csv\", header=True, index=False)\n",
    "test_df.to_csv(\"grocery_and_gourmet_test.csv\", header=True, index=False)"
   ]
  },
  {
   "cell_type": "code",
   "execution_count": 106,
   "metadata": {},
   "outputs": [],
   "source": [
    "df_uniq_cl.to_csv(\"grocery_and_gourmet_classifier_uniq.csv\", index=False)"
   ]
  },
  {
   "cell_type": "code",
   "execution_count": 107,
   "metadata": {},
   "outputs": [],
   "source": [
    "df_uniq_cl.to_csv(\"grocery_and_gourmet_all_classifier_data_unbalanced_uniq.csv\", index=False)"
   ]
  },
  {
   "cell_type": "markdown",
   "metadata": {},
   "source": [
    "Dropping what we don't need again:"
   ]
  },
  {
   "cell_type": "code",
   "execution_count": 108,
   "metadata": {},
   "outputs": [],
   "source": [
    "df_uniq_LM = df_uniq.drop([\"helpful\",\"overall\",'num_helpful_votes','num_total_votes','helpful_ratio'], 1)"
   ]
  },
  {
   "cell_type": "code",
   "execution_count": 109,
   "metadata": {},
   "outputs": [
    {
     "data": {
      "text/html": [
       "<div>\n",
       "<style scoped>\n",
       "    .dataframe tbody tr th:only-of-type {\n",
       "        vertical-align: middle;\n",
       "    }\n",
       "\n",
       "    .dataframe tbody tr th {\n",
       "        vertical-align: top;\n",
       "    }\n",
       "\n",
       "    .dataframe thead th {\n",
       "        text-align: right;\n",
       "    }\n",
       "</style>\n",
       "<table border=\"1\" class=\"dataframe\">\n",
       "  <thead>\n",
       "    <tr style=\"text-align: right;\">\n",
       "      <th></th>\n",
       "      <th>reviewText</th>\n",
       "      <th>summary</th>\n",
       "    </tr>\n",
       "  </thead>\n",
       "  <tbody>\n",
       "    <tr>\n",
       "      <th>0</th>\n",
       "      <td>Just another flavor of Kit Kat but the taste is unique and a bit different.  The only thing that is bothersome is the price.  I thought it was a bit expensive....</td>\n",
       "      <td>Good Taste</td>\n",
       "    </tr>\n",
       "    <tr>\n",
       "      <th>1</th>\n",
       "      <td>I bought this on impulse and it comes from Japan,  which amused my family,  all those weird stamps and markings on the package. So that was fun.  It said it would take about a month to arrive and it did take that long.  I was hoping for a more interesting taste but to our family,  it just tasted a bit less flavorful or weaker than the standard milk chocolate kit kat.  The green tea flavor was too subtle for the sugar and it just tasted sweet. The wafers were very crispy, and that was good,  but it tasted a bit anemic to us.I'm happy I bought it, but don't need to buy it again.</td>\n",
       "      <td>3.5 stars,  sadly not as wonderful as I had hoped</td>\n",
       "    </tr>\n",
       "    <tr>\n",
       "      <th>2</th>\n",
       "      <td>Really good. Great gift for any fan of green tea! Just so expensive to purchase candy from across the sea.</td>\n",
       "      <td>Yum!</td>\n",
       "    </tr>\n",
       "    <tr>\n",
       "      <th>3</th>\n",
       "      <td>I had never had it before, was curious to see what it was like. Smooth, great subtle good flavor. I am ordering more and plan to make it a routine.</td>\n",
       "      <td>Unexpected flavor meld</td>\n",
       "    </tr>\n",
       "    <tr>\n",
       "      <th>4</th>\n",
       "      <td>I've been looking forward to trying these after hearing about how popular they were in Japan, and among Kit Kat fans as well. I do not recommend ordering these during warm weather, because they can melt and become smushy. I ordered mine right when summer began, and they were a bit mushy so I let them solidify under room temp. Afterwards, I tried some and they tasted fine. I was expecting a stronger green tea or matcha flavor, but it is actually quite subtle. The outer coating was creamy and not overly sugary, which I liked. Overall, I wouldn't say it's insanely good, but definitely a yummy...</td>\n",
       "      <td>Not a very strong tea flavor, but still yummy &amp; creamy!</td>\n",
       "    </tr>\n",
       "  </tbody>\n",
       "</table>\n",
       "</div>"
      ],
      "text/plain": [
       "                                                                                                                                                                                                                                                                                                                                                                                                                                                                                                                                                                                                                reviewText  \\\n",
       "0                                                                                                                                                                                                                                                                                                                                                                                                                                                       Just another flavor of Kit Kat but the taste is unique and a bit different.  The only thing that is bothersome is the price.  I thought it was a bit expensive....   \n",
       "1                  I bought this on impulse and it comes from Japan,  which amused my family,  all those weird stamps and markings on the package. So that was fun.  It said it would take about a month to arrive and it did take that long.  I was hoping for a more interesting taste but to our family,  it just tasted a bit less flavorful or weaker than the standard milk chocolate kit kat.  The green tea flavor was too subtle for the sugar and it just tasted sweet. The wafers were very crispy, and that was good,  but it tasted a bit anemic to us.I'm happy I bought it, but don't need to buy it again.   \n",
       "2                                                                                                                                                                                                                                                                                                                                                                                                                                                                                                               Really good. Great gift for any fan of green tea! Just so expensive to purchase candy from across the sea.   \n",
       "3                                                                                                                                                                                                                                                                                                                                                                                                                                                                      I had never had it before, was curious to see what it was like. Smooth, great subtle good flavor. I am ordering more and plan to make it a routine.   \n",
       "4  I've been looking forward to trying these after hearing about how popular they were in Japan, and among Kit Kat fans as well. I do not recommend ordering these during warm weather, because they can melt and become smushy. I ordered mine right when summer began, and they were a bit mushy so I let them solidify under room temp. Afterwards, I tried some and they tasted fine. I was expecting a stronger green tea or matcha flavor, but it is actually quite subtle. The outer coating was creamy and not overly sugary, which I liked. Overall, I wouldn't say it's insanely good, but definitely a yummy...   \n",
       "\n",
       "                                                   summary  \n",
       "0                                               Good Taste  \n",
       "1        3.5 stars,  sadly not as wonderful as I had hoped  \n",
       "2                                                     Yum!  \n",
       "3                                   Unexpected flavor meld  \n",
       "4  Not a very strong tea flavor, but still yummy & creamy!  "
      ]
     },
     "execution_count": 109,
     "metadata": {},
     "output_type": "execute_result"
    }
   ],
   "source": [
    "df_uniq_LM.head()"
   ]
  },
  {
   "cell_type": "code",
   "execution_count": 110,
   "metadata": {},
   "outputs": [],
   "source": [
    "df_uniq_LM.to_csv(\"grocery_and_gourmet_training_uniq.csv\", index=False)"
   ]
  },
  {
   "cell_type": "markdown",
   "metadata": {},
   "source": [
    "We are going to create folders for training:"
   ]
  },
  {
   "cell_type": "code",
   "execution_count": 111,
   "metadata": {},
   "outputs": [],
   "source": [
    "!pip install -Uqq fastbook\n",
    "import fastbook\n",
    "fastbook.setup_book()\n",
    "from fastbook import *\n",
    "from IPython.display import display,HTML\n",
    "import pandas as pd"
   ]
  },
  {
   "cell_type": "code",
   "execution_count": 112,
   "metadata": {},
   "outputs": [],
   "source": [
    "df_train = pd.read_csv(\"grocery_and_gourmet_train.csv\")\n",
    "df_test = pd.read_csv(\"grocery_and_gourmet_test.csv\")"
   ]
  },
  {
   "cell_type": "markdown",
   "metadata": {},
   "source": [
    "The data looks like this:"
   ]
  },
  {
   "cell_type": "code",
   "execution_count": 113,
   "metadata": {},
   "outputs": [
    {
     "data": {
      "text/html": [
       "<div>\n",
       "<style scoped>\n",
       "    .dataframe tbody tr th:only-of-type {\n",
       "        vertical-align: middle;\n",
       "    }\n",
       "\n",
       "    .dataframe tbody tr th {\n",
       "        vertical-align: top;\n",
       "    }\n",
       "\n",
       "    .dataframe thead th {\n",
       "        text-align: right;\n",
       "    }\n",
       "</style>\n",
       "<table border=\"1\" class=\"dataframe\">\n",
       "  <thead>\n",
       "    <tr style=\"text-align: right;\">\n",
       "      <th></th>\n",
       "      <th>helpful</th>\n",
       "      <th>reviewText</th>\n",
       "      <th>overall</th>\n",
       "      <th>summary</th>\n",
       "      <th>num_helpful_votes</th>\n",
       "      <th>num_total_votes</th>\n",
       "      <th>helpful_ratio</th>\n",
       "      <th>is_helpful</th>\n",
       "    </tr>\n",
       "  </thead>\n",
       "  <tbody>\n",
       "    <tr>\n",
       "      <th>0</th>\n",
       "      <td>[41, 51]</td>\n",
       "      <td>This YS Honey is not organic but is the best line of honey YS sells in different jars in different sizes. I purchase this line of YS sold in many sites for reasonable price. The only trick of this honey is I never place it in the sun to get it runny since that kills all the health benefits of the honey, I just consume it directly out of the can with a spoon and when it is as solid as rock which is how it should be shipped to consumers, I can fill how UNFILTERED this honey is since I feel the bumps, the wax in hive and that is what raw unfiltered honey should taste and feel like.REAL HONEY:...</td>\n",
       "      <td>4</td>\n",
       "      <td>Solid as Rock...</td>\n",
       "      <td>41</td>\n",
       "      <td>51</td>\n",
       "      <td>0.803922</td>\n",
       "      <td>1</td>\n",
       "    </tr>\n",
       "    <tr>\n",
       "      <th>1</th>\n",
       "      <td>[19, 50]</td>\n",
       "      <td>In the past I've used pure vanilla extract and vanilla beans which are expensive. However good vanilla tastes great and that's why I ordered this. It read McCormick PURE vanilla. To me that should mean only vanilla extracted from the full grown unripe fruit of the vanilla plant.I thought I was getting a bargain at $12 for 16 ounces of vanilla. When it arrived and I used it to make a protein shake I was shocked. One sip and I knew I had to throw away the shake. It tasted disgusting just as if it was spoiled. The first thing I noticed after using a teaspoon of this so called vanilla is that ...</td>\n",
       "      <td>1</td>\n",
       "      <td>disgusting</td>\n",
       "      <td>19</td>\n",
       "      <td>50</td>\n",
       "      <td>0.380000</td>\n",
       "      <td>0</td>\n",
       "    </tr>\n",
       "    <tr>\n",
       "      <th>2</th>\n",
       "      <td>[154, 161]</td>\n",
       "      <td>Bob's Red Mill TVP is priced at $ 9.48 (for 5% off subscribers) for a 4-pack deal on 10oz bags.  That's 23.7 cents per ounce.Bob's Red Mill TSP is priced at $28.24 (for 5% off subscribers) for a 4-pack deal on 13oz bags.  That's 54.3 cents per ounce.Thus, TSP is 2.29 times more expensive per ounce than TVP.TVP (textured vegetable protein) is not organic.  Only ingredient:  \"Defatted soy flour\"TSP (textured soy protein) is certified organic.  Only ingredient:  \"Organic soy\"TVP probably contains about 3 to 4 times as much hexane as soybean oil.  Archer Daniels Midland, the makers of TVP, pre...</td>\n",
       "      <td>4</td>\n",
       "      <td>Let's compare this product, Bob's Red Mill TVP, against Bob's Red Mill TSP</td>\n",
       "      <td>154</td>\n",
       "      <td>161</td>\n",
       "      <td>0.956522</td>\n",
       "      <td>1</td>\n",
       "    </tr>\n",
       "    <tr>\n",
       "      <th>3</th>\n",
       "      <td>[62, 95]</td>\n",
       "      <td>Although olive oil is healthy for you, I guess I've never found one I really loved the flavor of--either NO flavor or tastes a bit like paint thinner--or the price was astronomical; whatever the case I'd become quite frustrated in my search.  Then I learned that when an oil smokes, it releases carcinogens into the air and free radicals within the oil.  Olive oil should NOT be heated beyond 325 degrees F.  So, in searching for an oil with a higher smoke point PLUS staying within a \"paleo\" eating way of life I discovered Avocado Oil.  This is my new holy grail of oils:  it's got a smoke poin...</td>\n",
       "      <td>5</td>\n",
       "      <td>This is really a 10-STAR item--go buy it right now!</td>\n",
       "      <td>62</td>\n",
       "      <td>95</td>\n",
       "      <td>0.652632</td>\n",
       "      <td>0</td>\n",
       "    </tr>\n",
       "    <tr>\n",
       "      <th>4</th>\n",
       "      <td>[19, 61]</td>\n",
       "      <td>Really these are just cut up oats.  They taste like rather a cross between rolled oats and farina.  For my money, Quaker Oats beats it.</td>\n",
       "      <td>1</td>\n",
       "      <td>There's always one wet blanket, isn't there?</td>\n",
       "      <td>19</td>\n",
       "      <td>61</td>\n",
       "      <td>0.311475</td>\n",
       "      <td>0</td>\n",
       "    </tr>\n",
       "  </tbody>\n",
       "</table>\n",
       "</div>"
      ],
      "text/plain": [
       "      helpful  \\\n",
       "0    [41, 51]   \n",
       "1    [19, 50]   \n",
       "2  [154, 161]   \n",
       "3    [62, 95]   \n",
       "4    [19, 61]   \n",
       "\n",
       "                                                                                                                                                                                                                                                                                                                                                                                                                                                                                                                                                                                                                reviewText  \\\n",
       "0  This YS Honey is not organic but is the best line of honey YS sells in different jars in different sizes. I purchase this line of YS sold in many sites for reasonable price. The only trick of this honey is I never place it in the sun to get it runny since that kills all the health benefits of the honey, I just consume it directly out of the can with a spoon and when it is as solid as rock which is how it should be shipped to consumers, I can fill how UNFILTERED this honey is since I feel the bumps, the wax in hive and that is what raw unfiltered honey should taste and feel like.REAL HONEY:...   \n",
       "1  In the past I've used pure vanilla extract and vanilla beans which are expensive. However good vanilla tastes great and that's why I ordered this. It read McCormick PURE vanilla. To me that should mean only vanilla extracted from the full grown unripe fruit of the vanilla plant.I thought I was getting a bargain at $12 for 16 ounces of vanilla. When it arrived and I used it to make a protein shake I was shocked. One sip and I knew I had to throw away the shake. It tasted disgusting just as if it was spoiled. The first thing I noticed after using a teaspoon of this so called vanilla is that ...   \n",
       "2  Bob's Red Mill TVP is priced at $ 9.48 (for 5% off subscribers) for a 4-pack deal on 10oz bags.  That's 23.7 cents per ounce.Bob's Red Mill TSP is priced at $28.24 (for 5% off subscribers) for a 4-pack deal on 13oz bags.  That's 54.3 cents per ounce.Thus, TSP is 2.29 times more expensive per ounce than TVP.TVP (textured vegetable protein) is not organic.  Only ingredient:  \"Defatted soy flour\"TSP (textured soy protein) is certified organic.  Only ingredient:  \"Organic soy\"TVP probably contains about 3 to 4 times as much hexane as soybean oil.  Archer Daniels Midland, the makers of TVP, pre...   \n",
       "3  Although olive oil is healthy for you, I guess I've never found one I really loved the flavor of--either NO flavor or tastes a bit like paint thinner--or the price was astronomical; whatever the case I'd become quite frustrated in my search.  Then I learned that when an oil smokes, it releases carcinogens into the air and free radicals within the oil.  Olive oil should NOT be heated beyond 325 degrees F.  So, in searching for an oil with a higher smoke point PLUS staying within a \"paleo\" eating way of life I discovered Avocado Oil.  This is my new holy grail of oils:  it's got a smoke poin...   \n",
       "4                                                                                                                                                                                                                                                                                                                                                                                                                                                                                  Really these are just cut up oats.  They taste like rather a cross between rolled oats and farina.  For my money, Quaker Oats beats it.   \n",
       "\n",
       "   overall  \\\n",
       "0        4   \n",
       "1        1   \n",
       "2        4   \n",
       "3        5   \n",
       "4        1   \n",
       "\n",
       "                                                                      summary  \\\n",
       "0                                                            Solid as Rock...   \n",
       "1                                                                  disgusting   \n",
       "2  Let's compare this product, Bob's Red Mill TVP, against Bob's Red Mill TSP   \n",
       "3                         This is really a 10-STAR item--go buy it right now!   \n",
       "4                                There's always one wet blanket, isn't there?   \n",
       "\n",
       "   num_helpful_votes  num_total_votes  helpful_ratio  is_helpful  \n",
       "0                 41               51       0.803922           1  \n",
       "1                 19               50       0.380000           0  \n",
       "2                154              161       0.956522           1  \n",
       "3                 62               95       0.652632           0  \n",
       "4                 19               61       0.311475           0  "
      ]
     },
     "execution_count": 113,
     "metadata": {},
     "output_type": "execute_result"
    }
   ],
   "source": [
    "df_test.head()"
   ]
  },
  {
   "cell_type": "code",
   "execution_count": 114,
   "metadata": {},
   "outputs": [
    {
     "data": {
      "text/html": [
       "<div>\n",
       "<style scoped>\n",
       "    .dataframe tbody tr th:only-of-type {\n",
       "        vertical-align: middle;\n",
       "    }\n",
       "\n",
       "    .dataframe tbody tr th {\n",
       "        vertical-align: top;\n",
       "    }\n",
       "\n",
       "    .dataframe thead th {\n",
       "        text-align: right;\n",
       "    }\n",
       "</style>\n",
       "<table border=\"1\" class=\"dataframe\">\n",
       "  <thead>\n",
       "    <tr style=\"text-align: right;\">\n",
       "      <th></th>\n",
       "      <th>helpful</th>\n",
       "      <th>reviewText</th>\n",
       "      <th>overall</th>\n",
       "      <th>summary</th>\n",
       "      <th>num_helpful_votes</th>\n",
       "      <th>num_total_votes</th>\n",
       "      <th>helpful_ratio</th>\n",
       "      <th>is_helpful</th>\n",
       "    </tr>\n",
       "  </thead>\n",
       "  <tbody>\n",
       "    <tr>\n",
       "      <th>0</th>\n",
       "      <td>[118, 120]</td>\n",
       "      <td>This is the authentic product, I can vouch for it since I am from India. The ITC Hotel chefs who created this recipe are very well regarded in India. Its just the right mix for a spicy lamb curry, all you need to do is mix it with water and add the lamb and then let it simmer on your stove for 30-45 minutes to bring out the aromas and flavors. Really convenient and time saving.The lamb curry paste is spicier than a butter chicken curry mix. The chicken curry usually has a more creamy consistency and is sweeter due to higher content of tomatoes. The lamb curry has a base of garlic, ginger, ...</td>\n",
       "      <td>5</td>\n",
       "      <td>Very authentic and spicy, tastes great with some basmati rice, great for beef too.</td>\n",
       "      <td>118</td>\n",
       "      <td>120</td>\n",
       "      <td>0.983333</td>\n",
       "      <td>1</td>\n",
       "    </tr>\n",
       "    <tr>\n",
       "      <th>1</th>\n",
       "      <td>[38, 63]</td>\n",
       "      <td>It was quite amazing that after I gave Solofill a one STAR rating I was being gang-attacked with names calling by some of the Amazon.com reviewers here.  It made me wonder why they were so zealous to the point that they had to attack others who did not agree with them? Luckily, there were also two people who spoke out on my behalf and that is why I believe this is the greatest county (U.S.A.) to live.Well, I decided to edit my review, not because of all these NEGATIVE pressure but because the Solofill customer service finally made things right for my previous order and also sent me a free ...</td>\n",
       "      <td>4</td>\n",
       "      <td>A second look at Solofill !</td>\n",
       "      <td>38</td>\n",
       "      <td>63</td>\n",
       "      <td>0.603175</td>\n",
       "      <td>0</td>\n",
       "    </tr>\n",
       "    <tr>\n",
       "      <th>2</th>\n",
       "      <td>[102, 108]</td>\n",
       "      <td>PURE, UNPASTEURIZED, UNFILTERED, ORGANIC, KOSHER, RAW HONEYLove it, love it, love it.I rarely recommend buying something that's more expensive than any \"regular\" type, but organic is well worth it as far as I'm concerned. Any time you can afford organic I believe it's worth the extra money because it's all about your health, not just taste. Everything you eat affects your health. You either pay extra now for the good stuff, or you pay a lot more later in the way of doctor bills and possibly even an early death.I get raw (unheated, never heat treated) honey from a friend now and then, she h...</td>\n",
       "      <td>5</td>\n",
       "      <td>Better than having your own bee hive!</td>\n",
       "      <td>102</td>\n",
       "      <td>108</td>\n",
       "      <td>0.944444</td>\n",
       "      <td>1</td>\n",
       "    </tr>\n",
       "    <tr>\n",
       "      <th>3</th>\n",
       "      <td>[46, 53]</td>\n",
       "      <td>I was particularly excited to try Emerald Cocoa Roast Almonds when they arrived in the mail today as I love chocolate and I love nuts.Five individuals ranging in age from 2 to 50 tried these together and shared feedback. A few common threads emerged.1. Chocolate doesn't come off on your hands: Very convenient as there is almost no residue left on hands even after holding a handful of nuts for a minute.2. Very subtle chocolate flavor: For some this is a plus and for some this is a negative. You know the chocolate is there, but in my opinion it just leave you wanting more chocolate. I couldn...</td>\n",
       "      <td>3</td>\n",
       "      <td>Lots of Nut, Little Chocolate; Mixed Results</td>\n",
       "      <td>46</td>\n",
       "      <td>53</td>\n",
       "      <td>0.867925</td>\n",
       "      <td>1</td>\n",
       "    </tr>\n",
       "    <tr>\n",
       "      <th>4</th>\n",
       "      <td>[80, 110]</td>\n",
       "      <td>Even though I write reviews mostly on my favorite types of escape novels, I was sparked by Amazon's enthusiasm, to take part in the grocery store and gourmet food expansions here.  My first purchase (of products beyond books) included a grain called QUINOA (Keenwa), on a Super Saver Shipping.The product arrived in very good order and within perfect timing.In that maiden purchase (which included a novel, of course, Cleo Coyle's latest coffeehouse mystery, MURDER MOST FROTHY), I also added lavender and clove essential oils to my shopping cart, along with powdered cloves, and lavender tea.  S...</td>\n",
       "      <td>5</td>\n",
       "      <td>Quinoa is Nutty (Yummy) like Barley; Sage like Ancient Vines Lost from Long Ago Times.</td>\n",
       "      <td>80</td>\n",
       "      <td>110</td>\n",
       "      <td>0.727273</td>\n",
       "      <td>0</td>\n",
       "    </tr>\n",
       "  </tbody>\n",
       "</table>\n",
       "</div>"
      ],
      "text/plain": [
       "      helpful  \\\n",
       "0  [118, 120]   \n",
       "1    [38, 63]   \n",
       "2  [102, 108]   \n",
       "3    [46, 53]   \n",
       "4   [80, 110]   \n",
       "\n",
       "                                                                                                                                                                                                                                                                                                                                                                                                                                                                                                                                                                                                                reviewText  \\\n",
       "0  This is the authentic product, I can vouch for it since I am from India. The ITC Hotel chefs who created this recipe are very well regarded in India. Its just the right mix for a spicy lamb curry, all you need to do is mix it with water and add the lamb and then let it simmer on your stove for 30-45 minutes to bring out the aromas and flavors. Really convenient and time saving.The lamb curry paste is spicier than a butter chicken curry mix. The chicken curry usually has a more creamy consistency and is sweeter due to higher content of tomatoes. The lamb curry has a base of garlic, ginger, ...   \n",
       "1  It was quite amazing that after I gave Solofill a one STAR rating I was being gang-attacked with names calling by some of the Amazon.com reviewers here.  It made me wonder why they were so zealous to the point that they had to attack others who did not agree with them? Luckily, there were also two people who spoke out on my behalf and that is why I believe this is the greatest county (U.S.A.) to live.Well, I decided to edit my review, not because of all these NEGATIVE pressure but because the Solofill customer service finally made things right for my previous order and also sent me a free ...   \n",
       "2  PURE, UNPASTEURIZED, UNFILTERED, ORGANIC, KOSHER, RAW HONEYLove it, love it, love it.I rarely recommend buying something that's more expensive than any \"regular\" type, but organic is well worth it as far as I'm concerned. Any time you can afford organic I believe it's worth the extra money because it's all about your health, not just taste. Everything you eat affects your health. You either pay extra now for the good stuff, or you pay a lot more later in the way of doctor bills and possibly even an early death.I get raw (unheated, never heat treated) honey from a friend now and then, she h...   \n",
       "3  I was particularly excited to try Emerald Cocoa Roast Almonds when they arrived in the mail today as I love chocolate and I love nuts.Five individuals ranging in age from 2 to 50 tried these together and shared feedback. A few common threads emerged.1. Chocolate doesn't come off on your hands: Very convenient as there is almost no residue left on hands even after holding a handful of nuts for a minute.2. Very subtle chocolate flavor: For some this is a plus and for some this is a negative. You know the chocolate is there, but in my opinion it just leave you wanting more chocolate. I couldn...   \n",
       "4  Even though I write reviews mostly on my favorite types of escape novels, I was sparked by Amazon's enthusiasm, to take part in the grocery store and gourmet food expansions here.  My first purchase (of products beyond books) included a grain called QUINOA (Keenwa), on a Super Saver Shipping.The product arrived in very good order and within perfect timing.In that maiden purchase (which included a novel, of course, Cleo Coyle's latest coffeehouse mystery, MURDER MOST FROTHY), I also added lavender and clove essential oils to my shopping cart, along with powdered cloves, and lavender tea.  S...   \n",
       "\n",
       "   overall  \\\n",
       "0        5   \n",
       "1        4   \n",
       "2        5   \n",
       "3        3   \n",
       "4        5   \n",
       "\n",
       "                                                                                  summary  \\\n",
       "0      Very authentic and spicy, tastes great with some basmati rice, great for beef too.   \n",
       "1                                                             A second look at Solofill !   \n",
       "2                                                   Better than having your own bee hive!   \n",
       "3                                            Lots of Nut, Little Chocolate; Mixed Results   \n",
       "4  Quinoa is Nutty (Yummy) like Barley; Sage like Ancient Vines Lost from Long Ago Times.   \n",
       "\n",
       "   num_helpful_votes  num_total_votes  helpful_ratio  is_helpful  \n",
       "0                118              120       0.983333           1  \n",
       "1                 38               63       0.603175           0  \n",
       "2                102              108       0.944444           1  \n",
       "3                 46               53       0.867925           1  \n",
       "4                 80              110       0.727273           0  "
      ]
     },
     "execution_count": 114,
     "metadata": {},
     "output_type": "execute_result"
    }
   ],
   "source": [
    "df_train.head()"
   ]
  },
  {
   "cell_type": "code",
   "execution_count": 115,
   "metadata": {},
   "outputs": [],
   "source": [
    "df_new = df_test.head()"
   ]
  },
  {
   "cell_type": "code",
   "execution_count": 116,
   "metadata": {},
   "outputs": [
    {
     "data": {
      "text/plain": [
       "(5, 8)"
      ]
     },
     "execution_count": 116,
     "metadata": {},
     "output_type": "execute_result"
    }
   ],
   "source": [
    "df_new.shape"
   ]
  },
  {
   "cell_type": "markdown",
   "metadata": {},
   "source": [
    "Populating data folders and data directory structure"
   ]
  },
  {
   "cell_type": "code",
   "execution_count": 117,
   "metadata": {},
   "outputs": [],
   "source": [
    "def populate_data_folders(row, main_dir, task):\n",
    "    \n",
    "    name = str(row.name) + \".txt\"\n",
    "    if row['is_helpful'] == 1:\n",
    "        file_path = (main_dir/task/\"helpful\"/name)\n",
    "        file_path.write_text(row[\"reviewText\"])\n",
    "    elif row['is_helpful'] == 0:\n",
    "        file_path = (main_dir/task/\"unhelpful\"/name)\n",
    "        file_path.write_text(row['reviewText'])\n",
    "    else:\n",
    "        print(\"Check line {}\".format(row.name))"
   ]
  },
  {
   "cell_type": "code",
   "execution_count": 118,
   "metadata": {},
   "outputs": [],
   "source": [
    "top_dir = Path(\"data\")\n",
    "\n",
    "if not top_dir.exists():\n",
    "    top_dir.mkdir()\n",
    "    for t in [\"test\",\"train\"]:\n",
    "        path_t = top_dir/t\n",
    "        path_t.mkdir()\n",
    "        for l in [\"helpful\", \"unhelpful\"]:\n",
    "            path_l = path_t/l\n",
    "            path_l.mkdir()"
   ]
  },
  {
   "cell_type": "code",
   "execution_count": 119,
   "metadata": {},
   "outputs": [
    {
     "data": {
      "text/plain": [
       "0     None\n",
       "1     None\n",
       "2     None\n",
       "3     None\n",
       "4     None\n",
       "5     None\n",
       "6     None\n",
       "7     None\n",
       "8     None\n",
       "9     None\n",
       "10    None\n",
       "11    None\n",
       "12    None\n",
       "13    None\n",
       "14    None\n",
       "15    None\n",
       "16    None\n",
       "17    None\n",
       "18    None\n",
       "19    None\n",
       "20    None\n",
       "21    None\n",
       "22    None\n",
       "23    None\n",
       "24    None\n",
       "dtype: object"
      ]
     },
     "execution_count": 119,
     "metadata": {},
     "output_type": "execute_result"
    }
   ],
   "source": [
    "df_test.apply(populate_data_folders, main_dir = top_dir, task = \"test\", axis=1)"
   ]
  },
  {
   "cell_type": "code",
   "execution_count": 120,
   "metadata": {},
   "outputs": [
    {
     "data": {
      "text/plain": [
       "0     None\n",
       "1     None\n",
       "2     None\n",
       "3     None\n",
       "4     None\n",
       "      ... \n",
       "94    None\n",
       "95    None\n",
       "96    None\n",
       "97    None\n",
       "98    None\n",
       "Length: 99, dtype: object"
      ]
     },
     "execution_count": 120,
     "metadata": {},
     "output_type": "execute_result"
    }
   ],
   "source": [
    "df_train.apply(populate_data_folders, main_dir = top_dir, task = \"train\", axis=1)"
   ]
  },
  {
   "cell_type": "code",
   "execution_count": 121,
   "metadata": {},
   "outputs": [],
   "source": [
    "from fastai.text.all import *"
   ]
  },
  {
   "cell_type": "code",
   "execution_count": 122,
   "metadata": {},
   "outputs": [
    {
     "data": {
      "text/plain": [
       "(#3) [Path('data/train'),Path('data/models'),Path('data/test')]"
      ]
     },
     "execution_count": 122,
     "metadata": {},
     "output_type": "execute_result"
    }
   ],
   "source": [
    "path = Path(\"data\")\n",
    "path.ls()"
   ]
  },
  {
   "cell_type": "code",
   "execution_count": 123,
   "metadata": {},
   "outputs": [],
   "source": [
    "get_files = partial(get_text_files, folders=['train', 'test'])\n",
    "\n",
    "dls_lm = DataBlock(\n",
    "    blocks=TextBlock.from_folder(path, is_lm=True),\n",
    "    get_items=get_files, splitter=RandomSplitter(0.1)\n",
    ").dataloaders(path, path=path, bs=128, seq_len=80)"
   ]
  },
  {
   "cell_type": "code",
   "execution_count": 124,
   "metadata": {},
   "outputs": [],
   "source": [
    "learn = language_model_learner(\n",
    "    dls_lm, AWD_LSTM, drop_mult=0.3, \n",
    "    metrics=[accuracy, Perplexity()]).to_fp16()"
   ]
  },
  {
   "cell_type": "code",
   "execution_count": 127,
   "metadata": {},
   "outputs": [
    {
     "data": {
      "text/html": [
       "<table border=\"1\" class=\"dataframe\">\n",
       "  <thead>\n",
       "    <tr style=\"text-align: left;\">\n",
       "      <th>epoch</th>\n",
       "      <th>train_loss</th>\n",
       "      <th>valid_loss</th>\n",
       "      <th>accuracy</th>\n",
       "      <th>perplexity</th>\n",
       "      <th>time</th>\n",
       "    </tr>\n",
       "  </thead>\n",
       "  <tbody>\n",
       "    <tr>\n",
       "      <td>0</td>\n",
       "      <td>4.100916</td>\n",
       "      <td>4.505882</td>\n",
       "      <td>0.210737</td>\n",
       "      <td>90.548195</td>\n",
       "      <td>00:01</td>\n",
       "    </tr>\n",
       "  </tbody>\n",
       "</table>"
      ],
      "text/plain": [
       "<IPython.core.display.HTML object>"
      ]
     },
     "metadata": {},
     "output_type": "display_data"
    }
   ],
   "source": [
    "learn.fit_one_cycle(1, 2e-2)"
   ]
  },
  {
   "cell_type": "markdown",
   "metadata": {},
   "source": [
    "We want to find the optimal learning rate by plotting the loss against the learning rate:"
   ]
  },
  {
   "cell_type": "code",
   "execution_count": 128,
   "metadata": {},
   "outputs": [
    {
     "data": {
      "text/html": [],
      "text/plain": [
       "<IPython.core.display.HTML object>"
      ]
     },
     "metadata": {},
     "output_type": "display_data"
    },
    {
     "data": {
      "image/png": "[encoded data removed]",
      "text/plain": [
       "<Figure size 432x288 with 1 Axes>"
      ]
     },
     "metadata": {
      "needs_background": "light"
     },
     "output_type": "display_data"
    }
   ],
   "source": [
    "lr_min,lr_steep = learn.lr_find()"
   ]
  },
  {
   "cell_type": "markdown",
   "metadata": {},
   "source": [
    "Unfreeze, save and load:"
   ]
  },
  {
   "cell_type": "code",
   "execution_count": 129,
   "metadata": {},
   "outputs": [
    {
     "data": {
      "text/plain": [
       "Path('data/models/1epoch.pth')"
      ]
     },
     "execution_count": 129,
     "metadata": {},
     "output_type": "execute_result"
    }
   ],
   "source": [
    "learn.save('1epoch')"
   ]
  },
  {
   "cell_type": "code",
   "execution_count": 130,
   "metadata": {},
   "outputs": [],
   "source": [
    "learn.load('1epoch');"
   ]
  },
  {
   "cell_type": "markdown",
   "metadata": {},
   "source": [
    "After unfreezing, finetuning "
   ]
  },
  {
   "cell_type": "code",
   "execution_count": 131,
   "metadata": {},
   "outputs": [
    {
     "data": {
      "text/html": [
       "<table border=\"1\" class=\"dataframe\">\n",
       "  <thead>\n",
       "    <tr style=\"text-align: left;\">\n",
       "      <th>epoch</th>\n",
       "      <th>train_loss</th>\n",
       "      <th>valid_loss</th>\n",
       "      <th>accuracy</th>\n",
       "      <th>perplexity</th>\n",
       "      <th>time</th>\n",
       "    </tr>\n",
       "  </thead>\n",
       "  <tbody>\n",
       "    <tr>\n",
       "      <td>0</td>\n",
       "      <td>3.900153</td>\n",
       "      <td>4.405414</td>\n",
       "      <td>0.215946</td>\n",
       "      <td>81.893051</td>\n",
       "      <td>00:01</td>\n",
       "    </tr>\n",
       "    <tr>\n",
       "      <td>1</td>\n",
       "      <td>3.818004</td>\n",
       "      <td>4.380050</td>\n",
       "      <td>0.214744</td>\n",
       "      <td>79.842003</td>\n",
       "      <td>00:01</td>\n",
       "    </tr>\n",
       "    <tr>\n",
       "      <td>2</td>\n",
       "      <td>3.683079</td>\n",
       "      <td>4.312737</td>\n",
       "      <td>0.217348</td>\n",
       "      <td>74.644478</td>\n",
       "      <td>00:01</td>\n",
       "    </tr>\n",
       "    <tr>\n",
       "      <td>3</td>\n",
       "      <td>3.543440</td>\n",
       "      <td>4.342031</td>\n",
       "      <td>0.211538</td>\n",
       "      <td>76.863487</td>\n",
       "      <td>00:01</td>\n",
       "    </tr>\n",
       "    <tr>\n",
       "      <td>4</td>\n",
       "      <td>3.430624</td>\n",
       "      <td>4.343682</td>\n",
       "      <td>0.213141</td>\n",
       "      <td>76.990486</td>\n",
       "      <td>00:01</td>\n",
       "    </tr>\n",
       "  </tbody>\n",
       "</table>"
      ],
      "text/plain": [
       "<IPython.core.display.HTML object>"
      ]
     },
     "metadata": {},
     "output_type": "display_data"
    }
   ],
   "source": [
    "learn.unfreeze()\n",
    "learn.fit_one_cycle(5, 2e-3)"
   ]
  },
  {
   "cell_type": "markdown",
   "metadata": {},
   "source": [
    "I think 3 epochs is the ideal (encoder= except for the final layer)"
   ]
  },
  {
   "cell_type": "code",
   "execution_count": 132,
   "metadata": {},
   "outputs": [],
   "source": [
    "learn.save_encoder('finetuned')"
   ]
  },
  {
   "cell_type": "markdown",
   "metadata": {},
   "source": [
    "Creating the classifier DataLoaders- Create the language model by using DataBlock. From finetuning to pretrained model for classification \n",
    "(vocab=dls_lm.vocab uses the vocab we have from the language model (indep var))"
   ]
  },
  {
   "cell_type": "code",
   "execution_count": 52,
   "metadata": {},
   "outputs": [],
   "source": [
    "dls_clas = DataBlock(\n",
    "    blocks=(TextBlock.from_folder(path, vocab=dls_lm.vocab),CategoryBlock),\n",
    "    get_y = parent_label,\n",
    "    get_items=partial(get_text_files, folders=['train', 'test']),\n",
    "    splitter=GrandparentSplitter(valid_name='test')\n",
    ").dataloaders(path, path=path, bs=24, seq_len=72)"
   ]
  },
  {
   "cell_type": "code",
   "execution_count": 53,
   "metadata": {},
   "outputs": [
    {
     "data": {
      "text/html": [
       "<table border=\"1\" class=\"dataframe\">\n",
       "  <thead>\n",
       "    <tr style=\"text-align: right;\">\n",
       "      <th></th>\n",
       "      <th>text</th>\n",
       "      <th>category</th>\n",
       "    </tr>\n",
       "  </thead>\n",
       "  <tbody>\n",
       "    <tr>\n",
       "      <th>0</th>\n",
       "      <td>xxbos xxunk : very nearly like xxunk great in cold xxunk for hot beverages ( see xxunk xxunk ' cooling xxunk xxunk in a baking xxunk xxunk , chemical xxunk : contains xxunk amounts of sugar and xxunk \" but not necessarily non - xxunk exactly zero calories ( greater than two servings likely greater than 5 xxunk slightly bitter aftertaste in hot xxunk honey - like overtones added to the xxunk ' natural ' xxunk is xxunk : it contains some refined sugar and is not necessarily from non - gmo xxunk : xxmaj please realize that when xxunk any food item , including sweeteners , i can only give my opinion . xxmaj everyone 's taste xxunk are different and everyone 's xxunk of what tastes good in a sweetener is different . i have done my best to xxunk this product , but in the end you</td>\n",
       "      <td>helpful</td>\n",
       "    </tr>\n",
       "    <tr>\n",
       "      <th>1</th>\n",
       "      <td>xxbos xxmaj it was quite amazing that after i gave xxmaj solofill a one xxup star rating i was being xxunk - xxunk with xxunk calling by some of the xxmaj xxunk reviewers here . xxmaj it made me wonder why they were so xxunk to the point that they had to attack others who did not agree with them ? xxmaj luckily , there were also two people who xxunk out on my xxunk and that is why i believe this is the xxunk xxunk ( xxunk . ) to xxunk , i decided to xxunk my review , not because of all these xxup negative pressure but because the xxmaj solofill customer service finally made things right for my xxunk order and also sent me a free replacement xxmaj solofill cup ( after they checked it out ) to re - xxunk . xxmaj if i rate the</td>\n",
       "      <td>unhelpful</td>\n",
       "    </tr>\n",
       "    <tr>\n",
       "      <th>2</th>\n",
       "      <td>xxbos xxmaj even though i write reviews mostly on my favorite types of xxunk xxunk , i was xxunk by xxmaj amazon 's xxunk , to take part in the grocery store and gourmet food xxunk here . xxmaj my first purchase ( of products beyond books ) included a grain called xxup quinoa ( xxunk product arrived in very good order and within perfect xxunk that xxunk purchase i also added lavender and xxunk essential oils to my xxunk cart , along with powdered cloves , and lavender tea . xxmaj see my xxmaj xxunk on xxmaj essential xxmaj oils ( which xxunk which items xxmaj i 've reviewed ) for info on the values and uses of lavender and cloves , available from various xxunk xxunk consider xxmaj quinoa to be the most xxunk food available on the xxunk , a food which meets my xxunk for xxunk</td>\n",
       "      <td>unhelpful</td>\n",
       "    </tr>\n",
       "    <tr>\n",
       "      <th>3</th>\n",
       "      <td>xxbos xxmaj even though i write reviews mostly on my favorite types of xxunk xxunk , i was xxunk by xxmaj amazon 's xxunk , to take part in the grocery store and gourmet food xxunk here . xxmaj my first purchase ( of products beyond books ) included a grain called xxup quinoa ( xxunk ) , on a xxmaj super xxmaj xxunk xxunk product arrived in very good order and within perfect xxunk that xxunk purchase ( which included a xxunk , of course , xxmaj xxunk xxmaj xxunk 's xxunk xxunk xxunk , xxup xxunk xxup most xxup xxunk ) , i also added lavender and xxunk essential oils to my xxunk cart , along with powdered cloves , and lavender tea . xxmaj see my xxmaj xxunk on xxmaj essential xxmaj oils ( which xxunk which items xxmaj i 've reviewed ) for info on the</td>\n",
       "      <td>unhelpful</td>\n",
       "    </tr>\n",
       "  </tbody>\n",
       "</table>"
      ],
      "text/plain": [
       "<IPython.core.display.HTML object>"
      ]
     },
     "metadata": {},
     "output_type": "display_data"
    }
   ],
   "source": [
    "dls_clas.show_batch(max_n=4)"
   ]
  },
  {
   "cell_type": "code",
   "execution_count": 54,
   "metadata": {},
   "outputs": [],
   "source": [
    "learn = text_classifier_learner(dls_clas, AWD_LSTM, drop_mult=0.5, \n",
    "                                metrics=accuracy).to_fp16()"
   ]
  },
  {
   "cell_type": "code",
   "execution_count": 55,
   "metadata": {},
   "outputs": [],
   "source": [
    "learn = learn.load_encoder('finetuned')"
   ]
  },
  {
   "cell_type": "markdown",
   "metadata": {},
   "source": [
    "Fine-tuning the classifier. The last step: train with discriminative learning rates and gradual unfreezing(for NLP classifiers it is better to unfreeze a few layers only). In this case, we only use the final layer, a randomly added classifier layer:"
   ]
  },
  {
   "cell_type": "code",
   "execution_count": 56,
   "metadata": {},
   "outputs": [
    {
     "data": {
      "text/html": [
       "<table border=\"1\" class=\"dataframe\">\n",
       "  <thead>\n",
       "    <tr style=\"text-align: left;\">\n",
       "      <th>epoch</th>\n",
       "      <th>train_loss</th>\n",
       "      <th>valid_loss</th>\n",
       "      <th>accuracy</th>\n",
       "      <th>time</th>\n",
       "    </tr>\n",
       "  </thead>\n",
       "  <tbody>\n",
       "    <tr>\n",
       "      <td>0</td>\n",
       "      <td>0.917979</td>\n",
       "      <td>0.964837</td>\n",
       "      <td>0.480000</td>\n",
       "      <td>00:02</td>\n",
       "    </tr>\n",
       "  </tbody>\n",
       "</table>"
      ],
      "text/plain": [
       "<IPython.core.display.HTML object>"
      ]
     },
     "metadata": {},
     "output_type": "display_data"
    }
   ],
   "source": [
    "learn.fit_one_cycle(1, 2e-2)"
   ]
  },
  {
   "cell_type": "markdown",
   "metadata": {},
   "source": [
    "Now we unfreeze the last couple of layer groups:"
   ]
  },
  {
   "cell_type": "code",
   "execution_count": 57,
   "metadata": {},
   "outputs": [
    {
     "data": {
      "text/html": [
       "<table border=\"1\" class=\"dataframe\">\n",
       "  <thead>\n",
       "    <tr style=\"text-align: left;\">\n",
       "      <th>epoch</th>\n",
       "      <th>train_loss</th>\n",
       "      <th>valid_loss</th>\n",
       "      <th>accuracy</th>\n",
       "      <th>time</th>\n",
       "    </tr>\n",
       "  </thead>\n",
       "  <tbody>\n",
       "    <tr>\n",
       "      <td>0</td>\n",
       "      <td>0.589943</td>\n",
       "      <td>0.687495</td>\n",
       "      <td>0.560000</td>\n",
       "      <td>00:02</td>\n",
       "    </tr>\n",
       "  </tbody>\n",
       "</table>"
      ],
      "text/plain": [
       "<IPython.core.display.HTML object>"
      ]
     },
     "metadata": {},
     "output_type": "display_data"
    }
   ],
   "source": [
    "learn.freeze_to(-2)\n",
    "learn.fit_one_cycle(1, slice(1e-2/(2.6**4),1e-2))"
   ]
  },
  {
   "cell_type": "markdown",
   "metadata": {},
   "source": [
    "Unfreezing more layers..."
   ]
  },
  {
   "cell_type": "code",
   "execution_count": 58,
   "metadata": {},
   "outputs": [
    {
     "data": {
      "text/html": [
       "<table border=\"1\" class=\"dataframe\">\n",
       "  <thead>\n",
       "    <tr style=\"text-align: left;\">\n",
       "      <th>epoch</th>\n",
       "      <th>train_loss</th>\n",
       "      <th>valid_loss</th>\n",
       "      <th>accuracy</th>\n",
       "      <th>time</th>\n",
       "    </tr>\n",
       "  </thead>\n",
       "  <tbody>\n",
       "    <tr>\n",
       "      <td>0</td>\n",
       "      <td>0.412093</td>\n",
       "      <td>0.666982</td>\n",
       "      <td>0.680000</td>\n",
       "      <td>00:03</td>\n",
       "    </tr>\n",
       "  </tbody>\n",
       "</table>"
      ],
      "text/plain": [
       "<IPython.core.display.HTML object>"
      ]
     },
     "metadata": {},
     "output_type": "display_data"
    }
   ],
   "source": [
    "learn.freeze_to(-3)\n",
    "learn.fit_one_cycle(1, slice(1e-3/(2.6**4),1e-3))"
   ]
  },
  {
   "cell_type": "code",
   "execution_count": 60,
   "metadata": {},
   "outputs": [
    {
     "data": {
      "text/html": [
       "<table border=\"1\" class=\"dataframe\">\n",
       "  <thead>\n",
       "    <tr style=\"text-align: left;\">\n",
       "      <th>epoch</th>\n",
       "      <th>train_loss</th>\n",
       "      <th>valid_loss</th>\n",
       "      <th>accuracy</th>\n",
       "      <th>time</th>\n",
       "    </tr>\n",
       "  </thead>\n",
       "  <tbody>\n",
       "    <tr>\n",
       "      <td>0</td>\n",
       "      <td>0.320203</td>\n",
       "      <td>0.655751</td>\n",
       "      <td>0.760000</td>\n",
       "      <td>00:03</td>\n",
       "    </tr>\n",
       "  </tbody>\n",
       "</table>"
      ],
      "text/plain": [
       "<IPython.core.display.HTML object>"
      ]
     },
     "metadata": {},
     "output_type": "display_data"
    }
   ],
   "source": [
    "learn.freeze_to(-5)\n",
    "learn.fit_one_cycle(1, slice(1e-5/(2.6**4),1e-5))"
   ]
  },
  {
   "cell_type": "markdown",
   "metadata": {},
   "source": [
    "Now the whole model:"
   ]
  },
  {
   "cell_type": "code",
   "execution_count": 61,
   "metadata": {},
   "outputs": [
    {
     "data": {
      "text/html": [
       "<table border=\"1\" class=\"dataframe\">\n",
       "  <thead>\n",
       "    <tr style=\"text-align: left;\">\n",
       "      <th>epoch</th>\n",
       "      <th>train_loss</th>\n",
       "      <th>valid_loss</th>\n",
       "      <th>accuracy</th>\n",
       "      <th>time</th>\n",
       "    </tr>\n",
       "  </thead>\n",
       "  <tbody>\n",
       "    <tr>\n",
       "      <td>0</td>\n",
       "      <td>0.324160</td>\n",
       "      <td>0.642505</td>\n",
       "      <td>0.800000</td>\n",
       "      <td>00:03</td>\n",
       "    </tr>\n",
       "  </tbody>\n",
       "</table>"
      ],
      "text/plain": [
       "<IPython.core.display.HTML object>"
      ]
     },
     "metadata": {},
     "output_type": "display_data"
    }
   ],
   "source": [
    "learn.unfreeze()\n",
    "learn.fit_one_cycle(1, slice(1e-3/(2.6**4),1e-3))"
   ]
  },
  {
   "cell_type": "markdown",
   "metadata": {},
   "source": [
    "At the end we've got 80% accuracy on balanced data !!"
   ]
  },
  {
   "cell_type": "markdown",
   "metadata": {},
   "source": [
    "---- NOW LET'S HAVE SOME FUN!! Side experiment about REVIEW GENERATION. Our model can be used to generate random reviews since it's trained to GUESS what the next word of the sentence is.  We can use it to write new reviews. Here are some examples:"
   ]
  },
  {
   "cell_type": "code",
   "execution_count": 181,
   "metadata": {},
   "outputs": [
    {
     "data": {
      "text/html": [],
      "text/plain": [
       "<IPython.core.display.HTML object>"
      ]
     },
     "metadata": {},
     "output_type": "display_data"
    },
    {
     "name": "stderr",
     "output_type": "stream",
     "text": [
      "/opt/conda/envs/fastai/lib/python3.8/site-packages/numpy/core/_asarray.py:83: VisibleDeprecationWarning: Creating an ndarray from ragged nested sequences (which is a list-or-tuple of lists-or-tuples-or ndarrays with different lengths or shapes) is deprecated. If you meant to do this, you must specify 'dtype=object' when creating the ndarray\n",
      "  return array(a, dtype, copy=False, order=order)\n"
     ]
    }
   ],
   "source": [
    "path = Path('data/train')\n",
    "df = pd.read_csv(\"grocery_and_gourmet_train.csv\")\n",
    "dls = TextDataLoaders.from_df(df, path=path, text_col='reviewText', is_lm=True)\n",
    "learn = language_model_learner(dls, AWD_LSTM)"
   ]
  },
  {
   "cell_type": "code",
   "execution_count": 187,
   "metadata": {},
   "outputs": [
    {
     "data": {
      "text/html": [],
      "text/plain": [
       "<IPython.core.display.HTML object>"
      ]
     },
     "metadata": {},
     "output_type": "display_data"
    },
    {
     "data": {
      "text/plain": [
       "'This product is too sweet and this is a common cause of the reduced - content quality of the US product , both the US and US . \" The whole \"'"
      ]
     },
     "execution_count": 187,
     "metadata": {},
     "output_type": "execute_result"
    }
   ],
   "source": [
    "learn.predict('This product is too sweet and ', n_words=30)"
   ]
  },
  {
   "cell_type": "code",
   "execution_count": 176,
   "metadata": {},
   "outputs": [
    {
     "data": {
      "text/html": [],
      "text/plain": [
       "<IPython.core.display.HTML object>"
      ]
     },
     "metadata": {},
     "output_type": "display_data"
    },
    {
     "data": {
      "text/html": [],
      "text/plain": [
       "<IPython.core.display.HTML object>"
      ]
     },
     "metadata": {},
     "output_type": "display_data"
    },
    {
     "data": {
      "text/html": [],
      "text/plain": [
       "<IPython.core.display.HTML object>"
      ]
     },
     "metadata": {},
     "output_type": "display_data"
    }
   ],
   "source": [
    "TEXT = \"This product has a really good taste and \"\n",
    "N_WORDS = 50\n",
    "N_SENTENCES = 3\n",
    "preds = [learn.predict(TEXT, N_WORDS, temperature=0.75)\n",
    "        for _ in range(N_SENTENCES)]"
   ]
  },
  {
   "cell_type": "code",
   "execution_count": 177,
   "metadata": {},
   "outputs": [
    {
     "name": "stdout",
     "output_type": "stream",
     "text": [
      "This product has a really good taste and is not a highly recommended and well - known example . However , it has been found to be a common choice to use in the commercial business that is considered the most common product in Japanese - Japanese . The quality of the product has\n",
      "This product has a really good taste and is not quite easy for the US to keep , and it has also been said that even the best - selling products are found . The US Mint has been considering the choice of \" Your Own Life \" as the product\n",
      "This product has a really good taste and is considered a bad word , but it is a low quality . The Japanese People 's Choice Word List has called the Japanese \" Japanese Japanese \" \" the most important slice of the US \" . The\n"
     ]
    }
   ],
   "source": [
    "print(\"\\n\".join(preds))"
   ]
  },
  {
   "cell_type": "code",
   "execution_count": null,
   "metadata": {},
   "outputs": [],
   "source": []
  }
 ],
 "metadata": {
  "kernelspec": {
   "display_name": "Python 3",
   "language": "python",
   "name": "python3"
  },
  "language_info": {
   "codemirror_mode": {
    "name": "ipython",
    "version": 3
   },
   "file_extension": ".py",
   "mimetype": "text/x-python",
   "name": "python",
   "nbconvert_exporter": "python",
   "pygments_lexer": "ipython3",
   "version": "3.8.6"
  }
 },
 "nbformat": 4,
 "nbformat_minor": 4
}
