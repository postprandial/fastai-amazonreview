{
 "cells": [
  {
   "cell_type": "markdown",
   "metadata": {},
   "source": [
    "### Electronics - Train with larger LM\n",
    "Here, we are training the LM with 19K (strictly speaking, 80% thereof) in hopes that this will ultimately improve the classifier accuracy."
   ]
  },
  {
   "cell_type": "code",
   "execution_count": 1,
   "metadata": {},
   "outputs": [],
   "source": [
    "#hide\n",
    "!pip install -Uqq fastbook\n",
    "import fastbook\n",
    "fastbook.setup_book()"
   ]
  },
  {
   "cell_type": "code",
   "execution_count": 2,
   "metadata": {},
   "outputs": [],
   "source": [
    "#hide\n",
    "from fastbook import *\n",
    "from IPython.display import display,HTML\n",
    "from fastai.text.all import *"
   ]
  },
  {
   "cell_type": "code",
   "execution_count": 3,
   "metadata": {},
   "outputs": [],
   "source": [
    "import pandas as pd\n",
    "import time"
   ]
  },
  {
   "cell_type": "code",
   "execution_count": 4,
   "metadata": {},
   "outputs": [],
   "source": [
    "lm_path = Path(\"electronics_all_classifier_data_unbalanced_uniq.csv\") \n",
    "# Data prep for this is done in the workbooks Dataprep and Dataprep2"
   ]
  },
  {
   "cell_type": "code",
   "execution_count": 5,
   "metadata": {},
   "outputs": [],
   "source": [
    "lm_df = pd.read_csv(lm_path)"
   ]
  },
  {
   "cell_type": "code",
   "execution_count": 6,
   "metadata": {},
   "outputs": [
    {
     "data": {
      "text/plain": [
       "(19009, 8)"
      ]
     },
     "execution_count": 6,
     "metadata": {},
     "output_type": "execute_result"
    }
   ],
   "source": [
    "lm_df.shape"
   ]
  },
  {
   "cell_type": "code",
   "execution_count": 8,
   "metadata": {},
   "outputs": [
    {
     "data": {
      "text/html": [
       "<div>\n",
       "<style scoped>\n",
       "    .dataframe tbody tr th:only-of-type {\n",
       "        vertical-align: middle;\n",
       "    }\n",
       "\n",
       "    .dataframe tbody tr th {\n",
       "        vertical-align: top;\n",
       "    }\n",
       "\n",
       "    .dataframe thead th {\n",
       "        text-align: right;\n",
       "    }\n",
       "</style>\n",
       "<table border=\"1\" class=\"dataframe\">\n",
       "  <thead>\n",
       "    <tr style=\"text-align: right;\">\n",
       "      <th></th>\n",
       "      <th>helpful</th>\n",
       "      <th>reviewText</th>\n",
       "      <th>overall</th>\n",
       "      <th>summary</th>\n",
       "      <th>num_helpful_votes</th>\n",
       "      <th>num_total_votes</th>\n",
       "      <th>helpful_ratio</th>\n",
       "      <th>is_helpful</th>\n",
       "    </tr>\n",
       "  </thead>\n",
       "  <tbody>\n",
       "    <tr>\n",
       "      <th>0</th>\n",
       "      <td>[70, 92]</td>\n",
       "      <td>I purchased this mount for my 37 inch LCD TV.  Installation was easy...  The trouble I encountered was due to a bad wall stud finder.  Make sure you have one when you install this mount because you need to screw the mount into a wall stud or at least have one screw into a wall stud.The arm of the mount sags after I hooked up my 37in. LCD TV to the mount.  My TV is within the weight limit of this mount (less than 55lbs.) but the arm still sags due to the weight of the TV.  I guess as long as it supports my TV, the sagging shouldn't be an issue.  It just looks funny from the side.  I do retr...</td>\n",
       "      <td>3.0</td>\n",
       "      <td>It Works But Could Be Better</td>\n",
       "      <td>70</td>\n",
       "      <td>92</td>\n",
       "      <td>0.760870</td>\n",
       "      <td>1.0</td>\n",
       "    </tr>\n",
       "    <tr>\n",
       "      <th>1</th>\n",
       "      <td>[52, 57]</td>\n",
       "      <td>Update 2-Sep-13:Put on CM 10.2.2 (Android 4.2.2) last week.  I've got to say, it's nice.  Fonts are small, though one could choose dpi if they had visual issues (google this).  Netflix works, and the UI is really quite nice - pretty much no need for Button Savior, battery life is same as CM7.  In general I like it better than CM7.  My major hardware dislikes are headphone jack requires a little wiggling sometimes, no BT, no GPS.  Seems to charge fine with a normal cable.At this point I lean toward Samsung tablets - I like the IR and the microSD slot.===========================Update Jul 20...</td>\n",
       "      <td>1.0</td>\n",
       "      <td>Very Limited Unless You Modify It</td>\n",
       "      <td>52</td>\n",
       "      <td>57</td>\n",
       "      <td>0.912281</td>\n",
       "      <td>1.0</td>\n",
       "    </tr>\n",
       "    <tr>\n",
       "      <th>2</th>\n",
       "      <td>[69, 72]</td>\n",
       "      <td>I've owned an Ipad 2, an original Kindle Fire, and first generation 3g dual screen Nook. I decided it was time to upgrade my original Nook and went with this tablet. I purchased mine direct from B&amp;N. This is a fantastic ereader with a few tablet functions. I really like the interface on this ereader more so than the Kindle Fire. Don't get me wrong, the Kindle Fire is a very nice device, but I like the personal touch I can give the Nook HD. It's more customizable.I can create my own wallpaper and customize my home screen. The ereader is very light and easy to hold with a contoured, grippy b...</td>\n",
       "      <td>5.0</td>\n",
       "      <td>Great little device!</td>\n",
       "      <td>69</td>\n",
       "      <td>72</td>\n",
       "      <td>0.958333</td>\n",
       "      <td>1.0</td>\n",
       "    </tr>\n",
       "    <tr>\n",
       "      <th>3</th>\n",
       "      <td>[48, 54]</td>\n",
       "      <td>I tried Kindle hd, Samsung tab 2, and Nexus 7. I returned them all since I had high standard for display quality of tablets. I was very disappointed by their color faithfulness and/or resolution.One day I saw a hot discussion online about discounted nook hd from Staples. I rushed to a local store and played nook hd. Its screen immediately attracted me: bright, white, colorful, high resolution. This is what I want!I have being enjoying nook hd ever since. It has THE BEST SCREEN  period!Online community like XDA forum has ways to root nook hd and install Android by yourself. I rooted mine an...</td>\n",
       "      <td>4.0</td>\n",
       "      <td>best screen out of all 7\" tablets</td>\n",
       "      <td>48</td>\n",
       "      <td>54</td>\n",
       "      <td>0.888889</td>\n",
       "      <td>1.0</td>\n",
       "    </tr>\n",
       "    <tr>\n",
       "      <th>4</th>\n",
       "      <td>[226, 231]</td>\n",
       "      <td>The Nook tablet is a great color e-reader with the \"bonus\" of being able to read your email, shop on Amazon.com, surf the web, watch tv shows on Hulu Plus, movies on Netflix, and listen to the world's largest selection of music on Pandora Radio.  I added a 16gb sd card filled with thousands of my favorite songs. But, the Nook is designed to be an ereader...it is not a games tablet, or an IPad.I got my Nook Tablet (8gb version) from Barnes &amp; Noble because of the extra discount I got with my B&amp;N; membership...the price was MUCH less than advertised by most internet venders. I already have a ...</td>\n",
       "      <td>5.0</td>\n",
       "      <td>Great Color E-Reader With Extra Features</td>\n",
       "      <td>226</td>\n",
       "      <td>231</td>\n",
       "      <td>0.978355</td>\n",
       "      <td>1.0</td>\n",
       "    </tr>\n",
       "  </tbody>\n",
       "</table>\n",
       "</div>"
      ],
      "text/plain": [
       "      helpful  \\\n",
       "0    [70, 92]   \n",
       "1    [52, 57]   \n",
       "2    [69, 72]   \n",
       "3    [48, 54]   \n",
       "4  [226, 231]   \n",
       "\n",
       "                                                                                                                                                                                                                                                                                                                                                                                                                                                                                                                                                                                                                reviewText  \\\n",
       "0  I purchased this mount for my 37 inch LCD TV.  Installation was easy...  The trouble I encountered was due to a bad wall stud finder.  Make sure you have one when you install this mount because you need to screw the mount into a wall stud or at least have one screw into a wall stud.The arm of the mount sags after I hooked up my 37in. LCD TV to the mount.  My TV is within the weight limit of this mount (less than 55lbs.) but the arm still sags due to the weight of the TV.  I guess as long as it supports my TV, the sagging shouldn't be an issue.  It just looks funny from the side.  I do retr...   \n",
       "1  Update 2-Sep-13:Put on CM 10.2.2 (Android 4.2.2) last week.  I've got to say, it's nice.  Fonts are small, though one could choose dpi if they had visual issues (google this).  Netflix works, and the UI is really quite nice - pretty much no need for Button Savior, battery life is same as CM7.  In general I like it better than CM7.  My major hardware dislikes are headphone jack requires a little wiggling sometimes, no BT, no GPS.  Seems to charge fine with a normal cable.At this point I lean toward Samsung tablets - I like the IR and the microSD slot.===========================Update Jul 20...   \n",
       "2  I've owned an Ipad 2, an original Kindle Fire, and first generation 3g dual screen Nook. I decided it was time to upgrade my original Nook and went with this tablet. I purchased mine direct from B&N. This is a fantastic ereader with a few tablet functions. I really like the interface on this ereader more so than the Kindle Fire. Don't get me wrong, the Kindle Fire is a very nice device, but I like the personal touch I can give the Nook HD. It's more customizable.I can create my own wallpaper and customize my home screen. The ereader is very light and easy to hold with a contoured, grippy b...   \n",
       "3  I tried Kindle hd, Samsung tab 2, and Nexus 7. I returned them all since I had high standard for display quality of tablets. I was very disappointed by their color faithfulness and/or resolution.One day I saw a hot discussion online about discounted nook hd from Staples. I rushed to a local store and played nook hd. Its screen immediately attracted me: bright, white, colorful, high resolution. This is what I want!I have being enjoying nook hd ever since. It has THE BEST SCREEN  period!Online community like XDA forum has ways to root nook hd and install Android by yourself. I rooted mine an...   \n",
       "4  The Nook tablet is a great color e-reader with the \"bonus\" of being able to read your email, shop on Amazon.com, surf the web, watch tv shows on Hulu Plus, movies on Netflix, and listen to the world's largest selection of music on Pandora Radio.  I added a 16gb sd card filled with thousands of my favorite songs. But, the Nook is designed to be an ereader...it is not a games tablet, or an IPad.I got my Nook Tablet (8gb version) from Barnes & Noble because of the extra discount I got with my B&N; membership...the price was MUCH less than advertised by most internet venders. I already have a ...   \n",
       "\n",
       "   overall                                   summary  num_helpful_votes  \\\n",
       "0      3.0              It Works But Could Be Better                 70   \n",
       "1      1.0         Very Limited Unless You Modify It                 52   \n",
       "2      5.0                      Great little device!                 69   \n",
       "3      4.0         best screen out of all 7\" tablets                 48   \n",
       "4      5.0  Great Color E-Reader With Extra Features                226   \n",
       "\n",
       "   num_total_votes  helpful_ratio  is_helpful  \n",
       "0               92       0.760870         1.0  \n",
       "1               57       0.912281         1.0  \n",
       "2               72       0.958333         1.0  \n",
       "3               54       0.888889         1.0  \n",
       "4              231       0.978355         1.0  "
      ]
     },
     "execution_count": 8,
     "metadata": {},
     "output_type": "execute_result"
    }
   ],
   "source": [
    "lm_df.head()"
   ]
  },
  {
   "cell_type": "code",
   "execution_count": 9,
   "metadata": {},
   "outputs": [],
   "source": [
    "lm_df.drop(columns=[\"helpful\", \"overall\", \"summary\", \"num_helpful_votes\", \"num_total_votes\",\"helpful_ratio\",\"is_helpful\"], inplace=True)"
   ]
  },
  {
   "cell_type": "code",
   "execution_count": 10,
   "metadata": {},
   "outputs": [
    {
     "data": {
      "text/html": [
       "<div>\n",
       "<style scoped>\n",
       "    .dataframe tbody tr th:only-of-type {\n",
       "        vertical-align: middle;\n",
       "    }\n",
       "\n",
       "    .dataframe tbody tr th {\n",
       "        vertical-align: top;\n",
       "    }\n",
       "\n",
       "    .dataframe thead th {\n",
       "        text-align: right;\n",
       "    }\n",
       "</style>\n",
       "<table border=\"1\" class=\"dataframe\">\n",
       "  <thead>\n",
       "    <tr style=\"text-align: right;\">\n",
       "      <th></th>\n",
       "      <th>reviewText</th>\n",
       "    </tr>\n",
       "  </thead>\n",
       "  <tbody>\n",
       "    <tr>\n",
       "      <th>0</th>\n",
       "      <td>I purchased this mount for my 37 inch LCD TV.  Installation was easy...  The trouble I encountered was due to a bad wall stud finder.  Make sure you have one when you install this mount because you need to screw the mount into a wall stud or at least have one screw into a wall stud.The arm of the mount sags after I hooked up my 37in. LCD TV to the mount.  My TV is within the weight limit of this mount (less than 55lbs.) but the arm still sags due to the weight of the TV.  I guess as long as it supports my TV, the sagging shouldn't be an issue.  It just looks funny from the side.  I do retr...</td>\n",
       "    </tr>\n",
       "    <tr>\n",
       "      <th>1</th>\n",
       "      <td>Update 2-Sep-13:Put on CM 10.2.2 (Android 4.2.2) last week.  I've got to say, it's nice.  Fonts are small, though one could choose dpi if they had visual issues (google this).  Netflix works, and the UI is really quite nice - pretty much no need for Button Savior, battery life is same as CM7.  In general I like it better than CM7.  My major hardware dislikes are headphone jack requires a little wiggling sometimes, no BT, no GPS.  Seems to charge fine with a normal cable.At this point I lean toward Samsung tablets - I like the IR and the microSD slot.===========================Update Jul 20...</td>\n",
       "    </tr>\n",
       "    <tr>\n",
       "      <th>2</th>\n",
       "      <td>I've owned an Ipad 2, an original Kindle Fire, and first generation 3g dual screen Nook. I decided it was time to upgrade my original Nook and went with this tablet. I purchased mine direct from B&amp;N. This is a fantastic ereader with a few tablet functions. I really like the interface on this ereader more so than the Kindle Fire. Don't get me wrong, the Kindle Fire is a very nice device, but I like the personal touch I can give the Nook HD. It's more customizable.I can create my own wallpaper and customize my home screen. The ereader is very light and easy to hold with a contoured, grippy b...</td>\n",
       "    </tr>\n",
       "    <tr>\n",
       "      <th>3</th>\n",
       "      <td>I tried Kindle hd, Samsung tab 2, and Nexus 7. I returned them all since I had high standard for display quality of tablets. I was very disappointed by their color faithfulness and/or resolution.One day I saw a hot discussion online about discounted nook hd from Staples. I rushed to a local store and played nook hd. Its screen immediately attracted me: bright, white, colorful, high resolution. This is what I want!I have being enjoying nook hd ever since. It has THE BEST SCREEN  period!Online community like XDA forum has ways to root nook hd and install Android by yourself. I rooted mine an...</td>\n",
       "    </tr>\n",
       "    <tr>\n",
       "      <th>4</th>\n",
       "      <td>The Nook tablet is a great color e-reader with the \"bonus\" of being able to read your email, shop on Amazon.com, surf the web, watch tv shows on Hulu Plus, movies on Netflix, and listen to the world's largest selection of music on Pandora Radio.  I added a 16gb sd card filled with thousands of my favorite songs. But, the Nook is designed to be an ereader...it is not a games tablet, or an IPad.I got my Nook Tablet (8gb version) from Barnes &amp; Noble because of the extra discount I got with my B&amp;N; membership...the price was MUCH less than advertised by most internet venders. I already have a ...</td>\n",
       "    </tr>\n",
       "  </tbody>\n",
       "</table>\n",
       "</div>"
      ],
      "text/plain": [
       "                                                                                                                                                                                                                                                                                                                                                                                                                                                                                                                                                                                                                reviewText\n",
       "0  I purchased this mount for my 37 inch LCD TV.  Installation was easy...  The trouble I encountered was due to a bad wall stud finder.  Make sure you have one when you install this mount because you need to screw the mount into a wall stud or at least have one screw into a wall stud.The arm of the mount sags after I hooked up my 37in. LCD TV to the mount.  My TV is within the weight limit of this mount (less than 55lbs.) but the arm still sags due to the weight of the TV.  I guess as long as it supports my TV, the sagging shouldn't be an issue.  It just looks funny from the side.  I do retr...\n",
       "1  Update 2-Sep-13:Put on CM 10.2.2 (Android 4.2.2) last week.  I've got to say, it's nice.  Fonts are small, though one could choose dpi if they had visual issues (google this).  Netflix works, and the UI is really quite nice - pretty much no need for Button Savior, battery life is same as CM7.  In general I like it better than CM7.  My major hardware dislikes are headphone jack requires a little wiggling sometimes, no BT, no GPS.  Seems to charge fine with a normal cable.At this point I lean toward Samsung tablets - I like the IR and the microSD slot.===========================Update Jul 20...\n",
       "2  I've owned an Ipad 2, an original Kindle Fire, and first generation 3g dual screen Nook. I decided it was time to upgrade my original Nook and went with this tablet. I purchased mine direct from B&N. This is a fantastic ereader with a few tablet functions. I really like the interface on this ereader more so than the Kindle Fire. Don't get me wrong, the Kindle Fire is a very nice device, but I like the personal touch I can give the Nook HD. It's more customizable.I can create my own wallpaper and customize my home screen. The ereader is very light and easy to hold with a contoured, grippy b...\n",
       "3  I tried Kindle hd, Samsung tab 2, and Nexus 7. I returned them all since I had high standard for display quality of tablets. I was very disappointed by their color faithfulness and/or resolution.One day I saw a hot discussion online about discounted nook hd from Staples. I rushed to a local store and played nook hd. Its screen immediately attracted me: bright, white, colorful, high resolution. This is what I want!I have being enjoying nook hd ever since. It has THE BEST SCREEN  period!Online community like XDA forum has ways to root nook hd and install Android by yourself. I rooted mine an...\n",
       "4  The Nook tablet is a great color e-reader with the \"bonus\" of being able to read your email, shop on Amazon.com, surf the web, watch tv shows on Hulu Plus, movies on Netflix, and listen to the world's largest selection of music on Pandora Radio.  I added a 16gb sd card filled with thousands of my favorite songs. But, the Nook is designed to be an ereader...it is not a games tablet, or an IPad.I got my Nook Tablet (8gb version) from Barnes & Noble because of the extra discount I got with my B&N; membership...the price was MUCH less than advertised by most internet venders. I already have a ..."
      ]
     },
     "execution_count": 10,
     "metadata": {},
     "output_type": "execute_result"
    }
   ],
   "source": [
    "lm_df.head()"
   ]
  },
  {
   "cell_type": "code",
   "execution_count": 12,
   "metadata": {},
   "outputs": [
    {
     "data": {
      "text/html": [],
      "text/plain": [
       "<IPython.core.display.HTML object>"
      ]
     },
     "metadata": {},
     "output_type": "display_data"
    },
    {
     "name": "stderr",
     "output_type": "stream",
     "text": [
      "/opt/conda/envs/fastai/lib/python3.8/site-packages/numpy/core/_asarray.py:83: VisibleDeprecationWarning: Creating an ndarray from ragged nested sequences (which is a list-or-tuple of lists-or-tuples-or ndarrays with different lengths or shapes) is deprecated. If you meant to do this, you must specify 'dtype=object' when creating the ndarray\n",
      "  return array(a, dtype, copy=False, order=order)\n"
     ]
    },
    {
     "name": "stdout",
     "output_type": "stream",
     "text": [
      "TextDataLoader took this long:  44.40907526016235\n"
     ]
    }
   ],
   "source": [
    "start = time.time()\n",
    "\n",
    "dls_lm = TextDataLoaders.from_df(lm_df, dtype=object,\n",
    "                                valid_pct = 0.20,\n",
    "                                bs = 64,\n",
    "                                is_lm = True)\n",
    "end = time.time()\n",
    "elapsed = end - start\n",
    "print(\"TextDataLoader took this long: \", elapsed)"
   ]
  },
  {
   "cell_type": "markdown",
   "metadata": {},
   "source": [
    "get_files = partial(get_text_files, folders=['train', 'test'])\n",
    "\n",
    "dls_lm = DataBlock(\n",
    "    blocks=TextBlock.from_folder(path, is_lm=True),\n",
    "    get_items=get_files, splitter=RandomSplitter(0.1)\n",
    ").dataloaders(path, path=path, bs=128, seq_len=80)"
   ]
  },
  {
   "cell_type": "code",
   "execution_count": 13,
   "metadata": {},
   "outputs": [
    {
     "data": {
      "text/html": [
       "<table border=\"1\" class=\"dataframe\">\n",
       "  <thead>\n",
       "    <tr style=\"text-align: right;\">\n",
       "      <th></th>\n",
       "      <th>text</th>\n",
       "      <th>text_</th>\n",
       "    </tr>\n",
       "  </thead>\n",
       "  <tbody>\n",
       "    <tr>\n",
       "      <th>0</th>\n",
       "      <td>xxbos xxmaj when i bought this , i wanted something which would basically replace my old , dead xxup vcr , but do it all with xxup dvd media , not outdated xxup vhs tapes , and that meant a xxup dvd recorder . xxmaj after doing my research and noting that this item seemed to fit my needs and wants , and while i can surely say that i had some</td>\n",
       "      <td>xxmaj when i bought this , i wanted something which would basically replace my old , dead xxup vcr , but do it all with xxup dvd media , not outdated xxup vhs tapes , and that meant a xxup dvd recorder . xxmaj after doing my research and noting that this item seemed to fit my needs and wants , and while i can surely say that i had some early</td>\n",
       "    </tr>\n",
       "    <tr>\n",
       "      <th>1</th>\n",
       "      <td>know if that is from me not using it correctly or what . xxmaj there is a built in light so you ca n't be sneaky with it in low light conditions . i would spend the extra money for the 20 over the 10 for the color view finder and other options . i ultimately did n't go with the xxmaj sony xxup trv 38 because of canon quality and recent</td>\n",
       "      <td>if that is from me not using it correctly or what . xxmaj there is a built in light so you ca n't be sneaky with it in low light conditions . i would spend the extra money for the 20 over the 10 for the color view finder and other options . i ultimately did n't go with the xxmaj sony xxup trv 38 because of canon quality and recent things</td>\n",
       "    </tr>\n",
       "    <tr>\n",
       "      <th>2</th>\n",
       "      <td>where i only need to take some xxunk . xxmaj runs xxmaj windows 8 ( june xxmaj preview edition ) perfectly . i scratch - loaded xxmaj windows 8 , and while it takes some patience to get all the xxmaj windows 7 drivers and utilities installed on xxmaj windows 8 , everything works xxunk you may not love as much:1 . xxmaj there 's a downside to making a laptop that</td>\n",
       "      <td>i only need to take some xxunk . xxmaj runs xxmaj windows 8 ( june xxmaj preview edition ) perfectly . i scratch - loaded xxmaj windows 8 , and while it takes some patience to get all the xxmaj windows 7 drivers and utilities installed on xxmaj windows 8 , everything works xxunk you may not love as much:1 . xxmaj there 's a downside to making a laptop that 's</td>\n",
       "    </tr>\n",
       "  </tbody>\n",
       "</table>"
      ],
      "text/plain": [
       "<IPython.core.display.HTML object>"
      ]
     },
     "metadata": {},
     "output_type": "display_data"
    }
   ],
   "source": [
    "dls_lm.show_batch(max_n=3)"
   ]
  },
  {
   "cell_type": "code",
   "execution_count": 15,
   "metadata": {},
   "outputs": [],
   "source": [
    "learn = language_model_learner(\n",
    "    dls_lm, AWD_LSTM, drop_mult=0.3, \n",
    "    metrics=[accuracy, Perplexity()])"
   ]
  },
  {
   "cell_type": "code",
   "execution_count": 16,
   "metadata": {},
   "outputs": [],
   "source": [
    "import time"
   ]
  },
  {
   "cell_type": "code",
   "execution_count": 17,
   "metadata": {
    "scrolled": true
   },
   "outputs": [
    {
     "data": {
      "text/html": [
       "<table border=\"1\" class=\"dataframe\">\n",
       "  <thead>\n",
       "    <tr style=\"text-align: left;\">\n",
       "      <th>epoch</th>\n",
       "      <th>train_loss</th>\n",
       "      <th>valid_loss</th>\n",
       "      <th>accuracy</th>\n",
       "      <th>perplexity</th>\n",
       "      <th>time</th>\n",
       "    </tr>\n",
       "  </thead>\n",
       "  <tbody>\n",
       "    <tr>\n",
       "      <td>0</td>\n",
       "      <td>4.188231</td>\n",
       "      <td>4.184806</td>\n",
       "      <td>0.252066</td>\n",
       "      <td>65.680779</td>\n",
       "      <td>12:44</td>\n",
       "    </tr>\n",
       "    <tr>\n",
       "      <td>1</td>\n",
       "      <td>4.132305</td>\n",
       "      <td>4.071600</td>\n",
       "      <td>0.260399</td>\n",
       "      <td>58.650753</td>\n",
       "      <td>14:25</td>\n",
       "    </tr>\n",
       "    <tr>\n",
       "      <td>2</td>\n",
       "      <td>3.944868</td>\n",
       "      <td>3.931675</td>\n",
       "      <td>0.274083</td>\n",
       "      <td>50.992302</td>\n",
       "      <td>12:21</td>\n",
       "    </tr>\n",
       "    <tr>\n",
       "      <td>3</td>\n",
       "      <td>3.761071</td>\n",
       "      <td>3.882766</td>\n",
       "      <td>0.279602</td>\n",
       "      <td>48.558342</td>\n",
       "      <td>12:08</td>\n",
       "    </tr>\n",
       "  </tbody>\n",
       "</table>"
      ],
      "text/plain": [
       "<IPython.core.display.HTML object>"
      ]
     },
     "metadata": {},
     "output_type": "display_data"
    },
    {
     "name": "stdout",
     "output_type": "stream",
     "text": [
      "3099.968159198761\n"
     ]
    }
   ],
   "source": [
    "start = time.time()\n",
    "learn.fit_one_cycle(4, 2e-2)\n",
    "end = time.time()\n",
    "elapsed = end - start\n",
    "print(elapsed)"
   ]
  },
  {
   "cell_type": "code",
   "execution_count": 18,
   "metadata": {},
   "outputs": [],
   "source": [
    "learn.save_encoder('LM_4ep_2e-2_19K')"
   ]
  },
  {
   "cell_type": "code",
   "execution_count": 19,
   "metadata": {},
   "outputs": [
    {
     "data": {
      "text/html": [],
      "text/plain": [
       "<IPython.core.display.HTML object>"
      ]
     },
     "metadata": {},
     "output_type": "display_data"
    },
    {
     "data": {
      "image/png": "[encoded data removed]",
      "text/plain": [
       "<Figure size 432x288 with 1 Axes>"
      ]
     },
     "metadata": {
      "needs_background": "light"
     },
     "output_type": "display_data"
    }
   ],
   "source": [
    "lr_min,lr_steep = learn.lr_find()"
   ]
  },
  {
   "cell_type": "code",
   "execution_count": 20,
   "metadata": {},
   "outputs": [
    {
     "data": {
      "text/html": [
       "<table border=\"1\" class=\"dataframe\">\n",
       "  <thead>\n",
       "    <tr style=\"text-align: left;\">\n",
       "      <th>epoch</th>\n",
       "      <th>train_loss</th>\n",
       "      <th>valid_loss</th>\n",
       "      <th>accuracy</th>\n",
       "      <th>perplexity</th>\n",
       "      <th>time</th>\n",
       "    </tr>\n",
       "  </thead>\n",
       "  <tbody>\n",
       "    <tr>\n",
       "      <td>0</td>\n",
       "      <td>3.586837</td>\n",
       "      <td>3.681459</td>\n",
       "      <td>0.305534</td>\n",
       "      <td>39.704269</td>\n",
       "      <td>13:26</td>\n",
       "    </tr>\n",
       "  </tbody>\n",
       "</table>"
      ],
      "text/plain": [
       "<IPython.core.display.HTML object>"
      ]
     },
     "metadata": {},
     "output_type": "display_data"
    },
    {
     "name": "stdout",
     "output_type": "stream",
     "text": [
      "806.3527421951294\n"
     ]
    }
   ],
   "source": [
    "start = time.time()\n",
    "learn.unfreeze()\n",
    "learn.fit_one_cycle(1, 2e-3)\n",
    "end = time.time()\n",
    "elapsed = end - start\n",
    "print(elapsed)"
   ]
  },
  {
   "cell_type": "markdown",
   "metadata": {},
   "source": [
    "#### About the language model above\n",
    "This one is now trained with 19K reviews."
   ]
  },
  {
   "cell_type": "code",
   "execution_count": 21,
   "metadata": {},
   "outputs": [],
   "source": [
    "learn.save_encoder('LM_4ep_2e-2_1ep_2e-3_19K')"
   ]
  },
  {
   "cell_type": "code",
   "execution_count": 22,
   "metadata": {},
   "outputs": [
    {
     "data": {
      "text/html": [
       "<table border=\"1\" class=\"dataframe\">\n",
       "  <thead>\n",
       "    <tr style=\"text-align: left;\">\n",
       "      <th>epoch</th>\n",
       "      <th>train_loss</th>\n",
       "      <th>valid_loss</th>\n",
       "      <th>accuracy</th>\n",
       "      <th>perplexity</th>\n",
       "      <th>time</th>\n",
       "    </tr>\n",
       "  </thead>\n",
       "  <tbody>\n",
       "    <tr>\n",
       "      <td>0</td>\n",
       "      <td>3.467038</td>\n",
       "      <td>3.645689</td>\n",
       "      <td>0.310523</td>\n",
       "      <td>38.309177</td>\n",
       "      <td>13:33</td>\n",
       "    </tr>\n",
       "  </tbody>\n",
       "</table>"
      ],
      "text/plain": [
       "<IPython.core.display.HTML object>"
      ]
     },
     "metadata": {},
     "output_type": "display_data"
    },
    {
     "name": "stdout",
     "output_type": "stream",
     "text": [
      "813.2776732444763\n"
     ]
    }
   ],
   "source": [
    "start = time.time()\n",
    "learn.unfreeze()\n",
    "learn.fit_one_cycle(1, 2e-3)\n",
    "end = time.time()\n",
    "elapsed = end - start\n",
    "print(elapsed)"
   ]
  },
  {
   "cell_type": "code",
   "execution_count": 16,
   "metadata": {},
   "outputs": [],
   "source": [
    "path = Path('data')"
   ]
  },
  {
   "cell_type": "code",
   "execution_count": 17,
   "metadata": {},
   "outputs": [],
   "source": [
    "dls_clas = DataBlock(\n",
    "    blocks=(TextBlock.from_folder(path, vocab=dls_lm.vocab),CategoryBlock),\n",
    "    get_y = parent_label,\n",
    "    get_items=partial(get_text_files, folders=['train', 'test']),\n",
    "    splitter=GrandparentSplitter(valid_name='test')\n",
    ").dataloaders(path, path=path, bs=128, seq_len=72)"
   ]
  },
  {
   "cell_type": "code",
   "execution_count": 18,
   "metadata": {},
   "outputs": [
    {
     "data": {
      "text/html": [
       "<table border=\"1\" class=\"dataframe\">\n",
       "  <thead>\n",
       "    <tr style=\"text-align: right;\">\n",
       "      <th></th>\n",
       "      <th>text</th>\n",
       "      <th>category</th>\n",
       "    </tr>\n",
       "  </thead>\n",
       "  <tbody>\n",
       "    <tr>\n",
       "      <th>0</th>\n",
       "      <td>xxbos xxmaj having had a chance to spend a little time with a review model gives me a chance to share the experience with you a bit early ( before my own arrives ) . xxmaj i 'll take you hands - on with the new model , plus xxmaj i 'll share from my past two years of ipod touch ownership altogether , especially for those who have n't yet owned ( or been owned by ) one of these mobile xxunk also hidden a treasure trove of info on how you can legitimately download tons of quality apps for free . xxmaj first though , let 's quickly cover what 's xxunk xxmaj faster 1ghz xxup a4 xxmaj processor - to keep up with the high demands of multitasking+ xxmaj ultra high resolution \" retina display \" - packs a 960 x 640 resolution at 326 pixels per</td>\n",
       "      <td>helpful</td>\n",
       "    </tr>\n",
       "    <tr>\n",
       "      <th>1</th>\n",
       "      <td>xxbos performancethe ( high definition ) xxmaj blu - ray movies played on the xxup db - d5500 are fabulous . ( standard low definition ) dvds are much clearer than played on my old xxup dvd player . xxmaj nothing more needs to be xxunk / xxup cons1 ) xxmaj the xxup bd - d5500 has a loading tray , which encourages proper handling of the disks by the edges . ( many more expensive players are \" slot xxunk ) xxmaj despite the complaint of one reviewer , it is the standard width ( 17 \" ) , exactly the same as my old xxup dvd player and my receiver.3 ) xxmaj the controls are illuminated , and so , easy to operate even in a dark room , but the controls are identified only by symbols . xxmaj seeing in the dark is good , feeling in</td>\n",
       "      <td>helpful</td>\n",
       "    </tr>\n",
       "    <tr>\n",
       "      <th>2</th>\n",
       "      <td>xxbos xxup xxunk / 27 / 2012so i came back from xxmaj galaxy xxmaj note 10.1 because i just could not tolerate non - full xxup hd screen any more after using xxmaj infinity . i tried to convince myself it would be ok , but it was n't . xxmaj the biggest concern coming back to infinity were relatively frequent application not responding error ( anr ) and random application crash / close especially on browser , and relatively but significantly slower speed of browser page loading compared to ipad 2 or xxmaj galaxy xxmaj note 10.1 . xxmaj however , with a little tweaks i am now very satisfied with infinity as those concerns are now significantly improved to almost completely xxunk xxmaj see xxmaj stability section for added xxmaj xxunk xxmaj conclusion xxunk / 31 / 2012- xxmaj wifi related battery issue is not unit based ,</td>\n",
       "      <td>helpful</td>\n",
       "    </tr>\n",
       "    <tr>\n",
       "      <th>3</th>\n",
       "      <td>xxbos xxup update 3 / 22 / 13 : xxmaj i 've used this recorder now to make hundreds of audio recordings . xxmaj its batteries have gone out many times , due to so much use . xxmaj only once did i lose some of the recording , and that only a tiny part at the end . xxmaj the sound clarity is good , even on the smallest file settings ( like 48kbps ) . xxmaj am really surprised . xxmaj initial review , follows below the line . xxrep 27 - xxup upshot : right now as i type , this is the lowest - priced and best xxmaj olympus recorder in xxmaj amazon - if you buy it from xxmaj amazon . xxmaj there are other sellers of this unit advertising via xxmaj amazon who sell the 702pc for up to twice what i just paid</td>\n",
       "      <td>helpful</td>\n",
       "    </tr>\n",
       "  </tbody>\n",
       "</table>"
      ],
      "text/plain": [
       "<IPython.core.display.HTML object>"
      ]
     },
     "metadata": {},
     "output_type": "display_data"
    }
   ],
   "source": [
    "dls_clas.show_batch(max_n=4)"
   ]
  },
  {
   "cell_type": "code",
   "execution_count": 36,
   "metadata": {},
   "outputs": [],
   "source": [
    "learn = text_classifier_learner(dls_clas, AWD_LSTM, drop_mult=0.5, \n",
    "                                metrics=accuracy).to_fp16()"
   ]
  },
  {
   "cell_type": "code",
   "execution_count": 37,
   "metadata": {},
   "outputs": [],
   "source": [
    "learn = learn.load_encoder('LM_4ep_2e-2_1ep_2e-3_19K')"
   ]
  },
  {
   "cell_type": "markdown",
   "metadata": {},
   "source": [
    "Note that we overwrote \"learn\" so I can now use it for the classifier, not the LM. hahaha."
   ]
  },
  {
   "cell_type": "code",
   "execution_count": 38,
   "metadata": {},
   "outputs": [
    {
     "data": {
      "text/html": [],
      "text/plain": [
       "<IPython.core.display.HTML object>"
      ]
     },
     "metadata": {},
     "output_type": "display_data"
    },
    {
     "data": {
      "image/png": "[encoded data removed]",
      "text/plain": [
       "<Figure size 432x288 with 1 Axes>"
      ]
     },
     "metadata": {
      "needs_background": "light"
     },
     "output_type": "display_data"
    }
   ],
   "source": [
    "lr_min,lr_steep = learn.lr_find()"
   ]
  },
  {
   "cell_type": "code",
   "execution_count": 39,
   "metadata": {},
   "outputs": [
    {
     "data": {
      "text/html": [
       "<table border=\"1\" class=\"dataframe\">\n",
       "  <thead>\n",
       "    <tr style=\"text-align: left;\">\n",
       "      <th>epoch</th>\n",
       "      <th>train_loss</th>\n",
       "      <th>valid_loss</th>\n",
       "      <th>accuracy</th>\n",
       "      <th>time</th>\n",
       "    </tr>\n",
       "  </thead>\n",
       "  <tbody>\n",
       "    <tr>\n",
       "      <td>0</td>\n",
       "      <td>0.650181</td>\n",
       "      <td>0.608985</td>\n",
       "      <td>0.716418</td>\n",
       "      <td>00:20</td>\n",
       "    </tr>\n",
       "  </tbody>\n",
       "</table>"
      ],
      "text/plain": [
       "<IPython.core.display.HTML object>"
      ]
     },
     "metadata": {},
     "output_type": "display_data"
    }
   ],
   "source": [
    "learn.fit_one_cycle(1, 1e-3)"
   ]
  },
  {
   "cell_type": "code",
   "execution_count": 40,
   "metadata": {},
   "outputs": [
    {
     "data": {
      "text/html": [
       "<table border=\"1\" class=\"dataframe\">\n",
       "  <thead>\n",
       "    <tr style=\"text-align: left;\">\n",
       "      <th>epoch</th>\n",
       "      <th>train_loss</th>\n",
       "      <th>valid_loss</th>\n",
       "      <th>accuracy</th>\n",
       "      <th>time</th>\n",
       "    </tr>\n",
       "  </thead>\n",
       "  <tbody>\n",
       "    <tr>\n",
       "      <td>0</td>\n",
       "      <td>0.572791</td>\n",
       "      <td>0.559885</td>\n",
       "      <td>0.748756</td>\n",
       "      <td>00:22</td>\n",
       "    </tr>\n",
       "    <tr>\n",
       "      <td>1</td>\n",
       "      <td>0.548128</td>\n",
       "      <td>0.536841</td>\n",
       "      <td>0.747512</td>\n",
       "      <td>00:22</td>\n",
       "    </tr>\n",
       "  </tbody>\n",
       "</table>"
      ],
      "text/plain": [
       "<IPython.core.display.HTML object>"
      ]
     },
     "metadata": {},
     "output_type": "display_data"
    }
   ],
   "source": [
    "learn.freeze_to(-2)\n",
    "learn.fit_one_cycle(2, slice(1e-3/(2.6**4),1e-3))"
   ]
  },
  {
   "cell_type": "code",
   "execution_count": 41,
   "metadata": {},
   "outputs": [
    {
     "data": {
      "text/html": [
       "<table border=\"1\" class=\"dataframe\">\n",
       "  <thead>\n",
       "    <tr style=\"text-align: left;\">\n",
       "      <th>epoch</th>\n",
       "      <th>train_loss</th>\n",
       "      <th>valid_loss</th>\n",
       "      <th>accuracy</th>\n",
       "      <th>time</th>\n",
       "    </tr>\n",
       "  </thead>\n",
       "  <tbody>\n",
       "    <tr>\n",
       "      <td>0</td>\n",
       "      <td>0.531927</td>\n",
       "      <td>0.505913</td>\n",
       "      <td>0.758706</td>\n",
       "      <td>00:32</td>\n",
       "    </tr>\n",
       "  </tbody>\n",
       "</table>"
      ],
      "text/plain": [
       "<IPython.core.display.HTML object>"
      ]
     },
     "metadata": {},
     "output_type": "display_data"
    }
   ],
   "source": [
    "learn.freeze_to(-3)\n",
    "learn.fit_one_cycle(1, slice(1e-3/(2.6**4),1e-3))"
   ]
  },
  {
   "cell_type": "code",
   "execution_count": 42,
   "metadata": {},
   "outputs": [
    {
     "data": {
      "text/html": [
       "<table border=\"1\" class=\"dataframe\">\n",
       "  <thead>\n",
       "    <tr style=\"text-align: left;\">\n",
       "      <th>epoch</th>\n",
       "      <th>train_loss</th>\n",
       "      <th>valid_loss</th>\n",
       "      <th>accuracy</th>\n",
       "      <th>time</th>\n",
       "    </tr>\n",
       "  </thead>\n",
       "  <tbody>\n",
       "    <tr>\n",
       "      <td>0</td>\n",
       "      <td>0.518763</td>\n",
       "      <td>0.520130</td>\n",
       "      <td>0.759950</td>\n",
       "      <td>00:32</td>\n",
       "    </tr>\n",
       "  </tbody>\n",
       "</table>"
      ],
      "text/plain": [
       "<IPython.core.display.HTML object>"
      ]
     },
     "metadata": {},
     "output_type": "display_data"
    }
   ],
   "source": [
    "learn.freeze_to(-3)\n",
    "learn.fit_one_cycle(1, slice(1e-3/(2.6**4),1e-3))"
   ]
  },
  {
   "cell_type": "code",
   "execution_count": 43,
   "metadata": {},
   "outputs": [
    {
     "data": {
      "text/html": [
       "<table border=\"1\" class=\"dataframe\">\n",
       "  <thead>\n",
       "    <tr style=\"text-align: left;\">\n",
       "      <th>epoch</th>\n",
       "      <th>train_loss</th>\n",
       "      <th>valid_loss</th>\n",
       "      <th>accuracy</th>\n",
       "      <th>time</th>\n",
       "    </tr>\n",
       "  </thead>\n",
       "  <tbody>\n",
       "    <tr>\n",
       "      <td>0</td>\n",
       "      <td>0.502847</td>\n",
       "      <td>0.520784</td>\n",
       "      <td>0.758706</td>\n",
       "      <td>00:40</td>\n",
       "    </tr>\n",
       "  </tbody>\n",
       "</table>"
      ],
      "text/plain": [
       "<IPython.core.display.HTML object>"
      ]
     },
     "metadata": {},
     "output_type": "display_data"
    }
   ],
   "source": [
    "learn.unfreeze()\n",
    "learn.fit_one_cycle(1, slice(1e-3/(2.6**4),1e-3))"
   ]
  },
  {
   "cell_type": "code",
   "execution_count": 44,
   "metadata": {},
   "outputs": [
    {
     "data": {
      "text/html": [
       "<table border=\"1\" class=\"dataframe\">\n",
       "  <thead>\n",
       "    <tr style=\"text-align: left;\">\n",
       "      <th>epoch</th>\n",
       "      <th>train_loss</th>\n",
       "      <th>valid_loss</th>\n",
       "      <th>accuracy</th>\n",
       "      <th>time</th>\n",
       "    </tr>\n",
       "  </thead>\n",
       "  <tbody>\n",
       "    <tr>\n",
       "      <td>0</td>\n",
       "      <td>0.469090</td>\n",
       "      <td>0.520122</td>\n",
       "      <td>0.750000</td>\n",
       "      <td>00:40</td>\n",
       "    </tr>\n",
       "  </tbody>\n",
       "</table>"
      ],
      "text/plain": [
       "<IPython.core.display.HTML object>"
      ]
     },
     "metadata": {},
     "output_type": "display_data"
    }
   ],
   "source": [
    "learn.unfreeze()\n",
    "learn.fit_one_cycle(1, slice(1e-3/(2.6**4),1e-3))"
   ]
  },
  {
   "cell_type": "code",
   "execution_count": 35,
   "metadata": {},
   "outputs": [
    {
     "data": {
      "text/html": [
       "<table border=\"1\" class=\"dataframe\">\n",
       "  <thead>\n",
       "    <tr style=\"text-align: left;\">\n",
       "      <th>epoch</th>\n",
       "      <th>train_loss</th>\n",
       "      <th>valid_loss</th>\n",
       "      <th>accuracy</th>\n",
       "      <th>time</th>\n",
       "    </tr>\n",
       "  </thead>\n",
       "  <tbody>\n",
       "    <tr>\n",
       "      <td>0</td>\n",
       "      <td>0.522873</td>\n",
       "      <td>0.524226</td>\n",
       "      <td>0.751244</td>\n",
       "      <td>00:40</td>\n",
       "    </tr>\n",
       "  </tbody>\n",
       "</table>"
      ],
      "text/plain": [
       "<IPython.core.display.HTML object>"
      ]
     },
     "metadata": {},
     "output_type": "display_data"
    }
   ],
   "source": [
    "learn.unfreeze()\n",
    "learn.fit_one_cycle(1, slice(1e-3/(2.6**4),1e-3))"
   ]
  },
  {
   "cell_type": "markdown",
   "metadata": {},
   "source": [
    "sVery interesting but a little disappointing as I'm clearly overfitting.This is my second attempt, and I decided on a smaller learning rate here (1e-3 consistently) but this looks still like overfitting."
   ]
  },
  {
   "cell_type": "code",
   "execution_count": 45,
   "metadata": {},
   "outputs": [],
   "source": [
    "learn.save_encoder('CL_5ep_1e-3_4K')"
   ]
  }
 ],
 "metadata": {
  "kernelspec": {
   "display_name": "Python 3",
   "language": "python",
   "name": "python3"
  },
  "language_info": {
   "codemirror_mode": {
    "name": "ipython",
    "version": 3
   },
   "file_extension": ".py",
   "mimetype": "text/x-python",
   "name": "python",
   "nbconvert_exporter": "python",
   "pygments_lexer": "ipython3",
   "version": "3.8.6"
  }
 },
 "nbformat": 4,
 "nbformat_minor": 4
}
